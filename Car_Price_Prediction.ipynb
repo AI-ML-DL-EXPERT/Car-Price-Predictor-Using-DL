{
  "nbformat": 4,
  "nbformat_minor": 0,
  "metadata": {
    "colab": {
      "provenance": [],
      "gpuType": "T4",
      "mount_file_id": "1HcWmK-GB9h5K-9-MKnmXuWaSZazrfbtu",
      "authorship_tag": "ABX9TyPw/ARBetSZDt4y5lFm/6Dg",
      "include_colab_link": true
    },
    "kernelspec": {
      "name": "python3",
      "display_name": "Python 3"
    },
    "language_info": {
      "name": "python"
    },
    "accelerator": "GPU"
  },
  "cells": [
    {
      "cell_type": "markdown",
      "metadata": {
        "id": "view-in-github",
        "colab_type": "text"
      },
      "source": [
        "<a href=\"https://colab.research.google.com/github/AI-ML-DL-EXPERT/Car-Price-Predictor-Using-DL/blob/main/Car_Price_Prediction.ipynb\" target=\"_parent\"><img src=\"https://colab.research.google.com/assets/colab-badge.svg\" alt=\"Open In Colab\"/></a>"
      ]
    },
    {
      "cell_type": "code",
      "execution_count": 1,
      "metadata": {
        "id": "zOEV2XPW2K6k"
      },
      "outputs": [],
      "source": [
        "import pandas as pd\n",
        "import numpy as np\n",
        "import matplotlib.pyplot as plt\n",
        "\n",
        "from sklearn.model_selection import train_test_split, cross_val_score\n",
        "from sklearn.ensemble import RandomForestRegressor\n",
        "from sklearn.metrics import accuracy_score, r2_score, mean_squared_error, mean_absolute_error, make_scorer\n",
        "from sklearn.compose import ColumnTransformer\n",
        "from sklearn.preprocessing import OneHotEncoder, OrdinalEncoder, LabelEncoder\n",
        "from sklearn.impute import SimpleImputer\n",
        "\n",
        "import tensorflow as tf\n",
        "from tensorflow import keras\n",
        "from keras import Sequential\n",
        "from keras.layers import Dense, BatchNormalization, Dropout"
      ]
    },
    {
      "cell_type": "markdown",
      "source": [
        "## Importing the Dataset"
      ],
      "metadata": {
        "id": "D-F2leV079ER"
      }
    },
    {
      "cell_type": "code",
      "source": [
        "df = pd.read_csv(\"/content/drive/MyDrive/Deep_Learning_Datasets/Car-price-Dataset.csv\")\n",
        "\n",
        "df.sample(3)"
      ],
      "metadata": {
        "id": "9V_yyHQ63Bsp",
        "colab": {
          "base_uri": "https://localhost:8080/",
          "height": 181
        },
        "outputId": "3930ff33-1f84-4e07-91b8-df602892025a"
      },
      "execution_count": 2,
      "outputs": [
        {
          "output_type": "execute_result",
          "data": {
            "text/plain": [
              "      Unnamed: 0 Company Name Model Name    Price  Model Year Location  \\\n",
              "5926        5926       Toyota       Duet   630000        2006   Punjab   \n",
              "8963        8963       Toyota    Corolla  2390000        2016   Punjab   \n",
              "9211        9211       Toyota       Aqua  2800000        2015      KPK   \n",
              "\n",
              "      Mileage Engine Type  Engine Capacity   Color  Assembly  Body Type  \\\n",
              "5926   151000      Petrol             1000  Maroon  Imported  Hatchback   \n",
              "8963    58000      Petrol             1300   White     Local      Sedan   \n",
              "9211    48000      Petrol             1500   Black  Imported  Hatchback   \n",
              "\n",
              "     Transmission Type Registration Status  \n",
              "5926         Automatic          Registered  \n",
              "8963         Automatic          Registered  \n",
              "9211         Automatic          Registered  "
            ],
            "text/html": [
              "\n",
              "  <div id=\"df-164267cd-00e7-4c21-8af9-5e3146787b8b\" class=\"colab-df-container\">\n",
              "    <div>\n",
              "<style scoped>\n",
              "    .dataframe tbody tr th:only-of-type {\n",
              "        vertical-align: middle;\n",
              "    }\n",
              "\n",
              "    .dataframe tbody tr th {\n",
              "        vertical-align: top;\n",
              "    }\n",
              "\n",
              "    .dataframe thead th {\n",
              "        text-align: right;\n",
              "    }\n",
              "</style>\n",
              "<table border=\"1\" class=\"dataframe\">\n",
              "  <thead>\n",
              "    <tr style=\"text-align: right;\">\n",
              "      <th></th>\n",
              "      <th>Unnamed: 0</th>\n",
              "      <th>Company Name</th>\n",
              "      <th>Model Name</th>\n",
              "      <th>Price</th>\n",
              "      <th>Model Year</th>\n",
              "      <th>Location</th>\n",
              "      <th>Mileage</th>\n",
              "      <th>Engine Type</th>\n",
              "      <th>Engine Capacity</th>\n",
              "      <th>Color</th>\n",
              "      <th>Assembly</th>\n",
              "      <th>Body Type</th>\n",
              "      <th>Transmission Type</th>\n",
              "      <th>Registration Status</th>\n",
              "    </tr>\n",
              "  </thead>\n",
              "  <tbody>\n",
              "    <tr>\n",
              "      <th>5926</th>\n",
              "      <td>5926</td>\n",
              "      <td>Toyota</td>\n",
              "      <td>Duet</td>\n",
              "      <td>630000</td>\n",
              "      <td>2006</td>\n",
              "      <td>Punjab</td>\n",
              "      <td>151000</td>\n",
              "      <td>Petrol</td>\n",
              "      <td>1000</td>\n",
              "      <td>Maroon</td>\n",
              "      <td>Imported</td>\n",
              "      <td>Hatchback</td>\n",
              "      <td>Automatic</td>\n",
              "      <td>Registered</td>\n",
              "    </tr>\n",
              "    <tr>\n",
              "      <th>8963</th>\n",
              "      <td>8963</td>\n",
              "      <td>Toyota</td>\n",
              "      <td>Corolla</td>\n",
              "      <td>2390000</td>\n",
              "      <td>2016</td>\n",
              "      <td>Punjab</td>\n",
              "      <td>58000</td>\n",
              "      <td>Petrol</td>\n",
              "      <td>1300</td>\n",
              "      <td>White</td>\n",
              "      <td>Local</td>\n",
              "      <td>Sedan</td>\n",
              "      <td>Automatic</td>\n",
              "      <td>Registered</td>\n",
              "    </tr>\n",
              "    <tr>\n",
              "      <th>9211</th>\n",
              "      <td>9211</td>\n",
              "      <td>Toyota</td>\n",
              "      <td>Aqua</td>\n",
              "      <td>2800000</td>\n",
              "      <td>2015</td>\n",
              "      <td>KPK</td>\n",
              "      <td>48000</td>\n",
              "      <td>Petrol</td>\n",
              "      <td>1500</td>\n",
              "      <td>Black</td>\n",
              "      <td>Imported</td>\n",
              "      <td>Hatchback</td>\n",
              "      <td>Automatic</td>\n",
              "      <td>Registered</td>\n",
              "    </tr>\n",
              "  </tbody>\n",
              "</table>\n",
              "</div>\n",
              "    <div class=\"colab-df-buttons\">\n",
              "\n",
              "  <div class=\"colab-df-container\">\n",
              "    <button class=\"colab-df-convert\" onclick=\"convertToInteractive('df-164267cd-00e7-4c21-8af9-5e3146787b8b')\"\n",
              "            title=\"Convert this dataframe to an interactive table.\"\n",
              "            style=\"display:none;\">\n",
              "\n",
              "  <svg xmlns=\"http://www.w3.org/2000/svg\" height=\"24px\" viewBox=\"0 -960 960 960\">\n",
              "    <path d=\"M120-120v-720h720v720H120Zm60-500h600v-160H180v160Zm220 220h160v-160H400v160Zm0 220h160v-160H400v160ZM180-400h160v-160H180v160Zm440 0h160v-160H620v160ZM180-180h160v-160H180v160Zm440 0h160v-160H620v160Z\"/>\n",
              "  </svg>\n",
              "    </button>\n",
              "\n",
              "  <style>\n",
              "    .colab-df-container {\n",
              "      display:flex;\n",
              "      gap: 12px;\n",
              "    }\n",
              "\n",
              "    .colab-df-convert {\n",
              "      background-color: #E8F0FE;\n",
              "      border: none;\n",
              "      border-radius: 50%;\n",
              "      cursor: pointer;\n",
              "      display: none;\n",
              "      fill: #1967D2;\n",
              "      height: 32px;\n",
              "      padding: 0 0 0 0;\n",
              "      width: 32px;\n",
              "    }\n",
              "\n",
              "    .colab-df-convert:hover {\n",
              "      background-color: #E2EBFA;\n",
              "      box-shadow: 0px 1px 2px rgba(60, 64, 67, 0.3), 0px 1px 3px 1px rgba(60, 64, 67, 0.15);\n",
              "      fill: #174EA6;\n",
              "    }\n",
              "\n",
              "    .colab-df-buttons div {\n",
              "      margin-bottom: 4px;\n",
              "    }\n",
              "\n",
              "    [theme=dark] .colab-df-convert {\n",
              "      background-color: #3B4455;\n",
              "      fill: #D2E3FC;\n",
              "    }\n",
              "\n",
              "    [theme=dark] .colab-df-convert:hover {\n",
              "      background-color: #434B5C;\n",
              "      box-shadow: 0px 1px 3px 1px rgba(0, 0, 0, 0.15);\n",
              "      filter: drop-shadow(0px 1px 2px rgba(0, 0, 0, 0.3));\n",
              "      fill: #FFFFFF;\n",
              "    }\n",
              "  </style>\n",
              "\n",
              "    <script>\n",
              "      const buttonEl =\n",
              "        document.querySelector('#df-164267cd-00e7-4c21-8af9-5e3146787b8b button.colab-df-convert');\n",
              "      buttonEl.style.display =\n",
              "        google.colab.kernel.accessAllowed ? 'block' : 'none';\n",
              "\n",
              "      async function convertToInteractive(key) {\n",
              "        const element = document.querySelector('#df-164267cd-00e7-4c21-8af9-5e3146787b8b');\n",
              "        const dataTable =\n",
              "          await google.colab.kernel.invokeFunction('convertToInteractive',\n",
              "                                                    [key], {});\n",
              "        if (!dataTable) return;\n",
              "\n",
              "        const docLinkHtml = 'Like what you see? Visit the ' +\n",
              "          '<a target=\"_blank\" href=https://colab.research.google.com/notebooks/data_table.ipynb>data table notebook</a>'\n",
              "          + ' to learn more about interactive tables.';\n",
              "        element.innerHTML = '';\n",
              "        dataTable['output_type'] = 'display_data';\n",
              "        await google.colab.output.renderOutput(dataTable, element);\n",
              "        const docLink = document.createElement('div');\n",
              "        docLink.innerHTML = docLinkHtml;\n",
              "        element.appendChild(docLink);\n",
              "      }\n",
              "    </script>\n",
              "  </div>\n",
              "\n",
              "\n",
              "<div id=\"df-fc715965-8a6d-49b6-aeff-366d28533e79\">\n",
              "  <button class=\"colab-df-quickchart\" onclick=\"quickchart('df-fc715965-8a6d-49b6-aeff-366d28533e79')\"\n",
              "            title=\"Suggest charts\"\n",
              "            style=\"display:none;\">\n",
              "\n",
              "<svg xmlns=\"http://www.w3.org/2000/svg\" height=\"24px\"viewBox=\"0 0 24 24\"\n",
              "     width=\"24px\">\n",
              "    <g>\n",
              "        <path d=\"M19 3H5c-1.1 0-2 .9-2 2v14c0 1.1.9 2 2 2h14c1.1 0 2-.9 2-2V5c0-1.1-.9-2-2-2zM9 17H7v-7h2v7zm4 0h-2V7h2v10zm4 0h-2v-4h2v4z\"/>\n",
              "    </g>\n",
              "</svg>\n",
              "  </button>\n",
              "\n",
              "<style>\n",
              "  .colab-df-quickchart {\n",
              "      --bg-color: #E8F0FE;\n",
              "      --fill-color: #1967D2;\n",
              "      --hover-bg-color: #E2EBFA;\n",
              "      --hover-fill-color: #174EA6;\n",
              "      --disabled-fill-color: #AAA;\n",
              "      --disabled-bg-color: #DDD;\n",
              "  }\n",
              "\n",
              "  [theme=dark] .colab-df-quickchart {\n",
              "      --bg-color: #3B4455;\n",
              "      --fill-color: #D2E3FC;\n",
              "      --hover-bg-color: #434B5C;\n",
              "      --hover-fill-color: #FFFFFF;\n",
              "      --disabled-bg-color: #3B4455;\n",
              "      --disabled-fill-color: #666;\n",
              "  }\n",
              "\n",
              "  .colab-df-quickchart {\n",
              "    background-color: var(--bg-color);\n",
              "    border: none;\n",
              "    border-radius: 50%;\n",
              "    cursor: pointer;\n",
              "    display: none;\n",
              "    fill: var(--fill-color);\n",
              "    height: 32px;\n",
              "    padding: 0;\n",
              "    width: 32px;\n",
              "  }\n",
              "\n",
              "  .colab-df-quickchart:hover {\n",
              "    background-color: var(--hover-bg-color);\n",
              "    box-shadow: 0 1px 2px rgba(60, 64, 67, 0.3), 0 1px 3px 1px rgba(60, 64, 67, 0.15);\n",
              "    fill: var(--button-hover-fill-color);\n",
              "  }\n",
              "\n",
              "  .colab-df-quickchart-complete:disabled,\n",
              "  .colab-df-quickchart-complete:disabled:hover {\n",
              "    background-color: var(--disabled-bg-color);\n",
              "    fill: var(--disabled-fill-color);\n",
              "    box-shadow: none;\n",
              "  }\n",
              "\n",
              "  .colab-df-spinner {\n",
              "    border: 2px solid var(--fill-color);\n",
              "    border-color: transparent;\n",
              "    border-bottom-color: var(--fill-color);\n",
              "    animation:\n",
              "      spin 1s steps(1) infinite;\n",
              "  }\n",
              "\n",
              "  @keyframes spin {\n",
              "    0% {\n",
              "      border-color: transparent;\n",
              "      border-bottom-color: var(--fill-color);\n",
              "      border-left-color: var(--fill-color);\n",
              "    }\n",
              "    20% {\n",
              "      border-color: transparent;\n",
              "      border-left-color: var(--fill-color);\n",
              "      border-top-color: var(--fill-color);\n",
              "    }\n",
              "    30% {\n",
              "      border-color: transparent;\n",
              "      border-left-color: var(--fill-color);\n",
              "      border-top-color: var(--fill-color);\n",
              "      border-right-color: var(--fill-color);\n",
              "    }\n",
              "    40% {\n",
              "      border-color: transparent;\n",
              "      border-right-color: var(--fill-color);\n",
              "      border-top-color: var(--fill-color);\n",
              "    }\n",
              "    60% {\n",
              "      border-color: transparent;\n",
              "      border-right-color: var(--fill-color);\n",
              "    }\n",
              "    80% {\n",
              "      border-color: transparent;\n",
              "      border-right-color: var(--fill-color);\n",
              "      border-bottom-color: var(--fill-color);\n",
              "    }\n",
              "    90% {\n",
              "      border-color: transparent;\n",
              "      border-bottom-color: var(--fill-color);\n",
              "    }\n",
              "  }\n",
              "</style>\n",
              "\n",
              "  <script>\n",
              "    async function quickchart(key) {\n",
              "      const quickchartButtonEl =\n",
              "        document.querySelector('#' + key + ' button');\n",
              "      quickchartButtonEl.disabled = true;  // To prevent multiple clicks.\n",
              "      quickchartButtonEl.classList.add('colab-df-spinner');\n",
              "      try {\n",
              "        const charts = await google.colab.kernel.invokeFunction(\n",
              "            'suggestCharts', [key], {});\n",
              "      } catch (error) {\n",
              "        console.error('Error during call to suggestCharts:', error);\n",
              "      }\n",
              "      quickchartButtonEl.classList.remove('colab-df-spinner');\n",
              "      quickchartButtonEl.classList.add('colab-df-quickchart-complete');\n",
              "    }\n",
              "    (() => {\n",
              "      let quickchartButtonEl =\n",
              "        document.querySelector('#df-fc715965-8a6d-49b6-aeff-366d28533e79 button');\n",
              "      quickchartButtonEl.style.display =\n",
              "        google.colab.kernel.accessAllowed ? 'block' : 'none';\n",
              "    })();\n",
              "  </script>\n",
              "</div>\n",
              "\n",
              "    </div>\n",
              "  </div>\n"
            ]
          },
          "metadata": {},
          "execution_count": 2
        }
      ]
    },
    {
      "cell_type": "markdown",
      "source": [
        "## Simple Preprocessing the Dataset"
      ],
      "metadata": {
        "id": "e-UrpfGr8EKT"
      }
    },
    {
      "cell_type": "code",
      "source": [
        "# Removing the first unnamed column\n",
        "\n",
        "df = df.iloc[:, 1:]"
      ],
      "metadata": {
        "id": "UZIVchNi39YA"
      },
      "execution_count": 3,
      "outputs": []
    },
    {
      "cell_type": "code",
      "source": [
        "df.sample(3)"
      ],
      "metadata": {
        "id": "nIdUPXRh4YY7",
        "colab": {
          "base_uri": "https://localhost:8080/",
          "height": 178
        },
        "outputId": "812605b8-58b7-4bbd-a80c-24a819bea543"
      },
      "execution_count": 4,
      "outputs": [
        {
          "output_type": "execute_result",
          "data": {
            "text/plain": [
              "      Company Name Model Name    Price  Model Year   Location  Mileage  \\\n",
              "7810        Suzuki       Alto   660000        2010      Sindh   120000   \n",
              "45384        Honda       City  2215000        2017     Punjab    41000   \n",
              "25644        Honda      Vezel  3650000        2014  Islamabad    35000   \n",
              "\n",
              "      Engine Type  Engine Capacity   Color  Assembly   Body Type  \\\n",
              "7810       Petrol             1000    Blue     Local   Hatchback   \n",
              "45384      Petrol             1300   White     Local       Sedan   \n",
              "25644      Petrol             1500  Silver  Imported  Cross Over   \n",
              "\n",
              "      Transmission Type Registration Status  \n",
              "7810             Manual          Registered  \n",
              "45384            Manual          Registered  \n",
              "25644         Automatic       Un-Registered  "
            ],
            "text/html": [
              "\n",
              "  <div id=\"df-a5c789ae-d509-44c0-8fd3-9c8255c9fa43\" class=\"colab-df-container\">\n",
              "    <div>\n",
              "<style scoped>\n",
              "    .dataframe tbody tr th:only-of-type {\n",
              "        vertical-align: middle;\n",
              "    }\n",
              "\n",
              "    .dataframe tbody tr th {\n",
              "        vertical-align: top;\n",
              "    }\n",
              "\n",
              "    .dataframe thead th {\n",
              "        text-align: right;\n",
              "    }\n",
              "</style>\n",
              "<table border=\"1\" class=\"dataframe\">\n",
              "  <thead>\n",
              "    <tr style=\"text-align: right;\">\n",
              "      <th></th>\n",
              "      <th>Company Name</th>\n",
              "      <th>Model Name</th>\n",
              "      <th>Price</th>\n",
              "      <th>Model Year</th>\n",
              "      <th>Location</th>\n",
              "      <th>Mileage</th>\n",
              "      <th>Engine Type</th>\n",
              "      <th>Engine Capacity</th>\n",
              "      <th>Color</th>\n",
              "      <th>Assembly</th>\n",
              "      <th>Body Type</th>\n",
              "      <th>Transmission Type</th>\n",
              "      <th>Registration Status</th>\n",
              "    </tr>\n",
              "  </thead>\n",
              "  <tbody>\n",
              "    <tr>\n",
              "      <th>7810</th>\n",
              "      <td>Suzuki</td>\n",
              "      <td>Alto</td>\n",
              "      <td>660000</td>\n",
              "      <td>2010</td>\n",
              "      <td>Sindh</td>\n",
              "      <td>120000</td>\n",
              "      <td>Petrol</td>\n",
              "      <td>1000</td>\n",
              "      <td>Blue</td>\n",
              "      <td>Local</td>\n",
              "      <td>Hatchback</td>\n",
              "      <td>Manual</td>\n",
              "      <td>Registered</td>\n",
              "    </tr>\n",
              "    <tr>\n",
              "      <th>45384</th>\n",
              "      <td>Honda</td>\n",
              "      <td>City</td>\n",
              "      <td>2215000</td>\n",
              "      <td>2017</td>\n",
              "      <td>Punjab</td>\n",
              "      <td>41000</td>\n",
              "      <td>Petrol</td>\n",
              "      <td>1300</td>\n",
              "      <td>White</td>\n",
              "      <td>Local</td>\n",
              "      <td>Sedan</td>\n",
              "      <td>Manual</td>\n",
              "      <td>Registered</td>\n",
              "    </tr>\n",
              "    <tr>\n",
              "      <th>25644</th>\n",
              "      <td>Honda</td>\n",
              "      <td>Vezel</td>\n",
              "      <td>3650000</td>\n",
              "      <td>2014</td>\n",
              "      <td>Islamabad</td>\n",
              "      <td>35000</td>\n",
              "      <td>Petrol</td>\n",
              "      <td>1500</td>\n",
              "      <td>Silver</td>\n",
              "      <td>Imported</td>\n",
              "      <td>Cross Over</td>\n",
              "      <td>Automatic</td>\n",
              "      <td>Un-Registered</td>\n",
              "    </tr>\n",
              "  </tbody>\n",
              "</table>\n",
              "</div>\n",
              "    <div class=\"colab-df-buttons\">\n",
              "\n",
              "  <div class=\"colab-df-container\">\n",
              "    <button class=\"colab-df-convert\" onclick=\"convertToInteractive('df-a5c789ae-d509-44c0-8fd3-9c8255c9fa43')\"\n",
              "            title=\"Convert this dataframe to an interactive table.\"\n",
              "            style=\"display:none;\">\n",
              "\n",
              "  <svg xmlns=\"http://www.w3.org/2000/svg\" height=\"24px\" viewBox=\"0 -960 960 960\">\n",
              "    <path d=\"M120-120v-720h720v720H120Zm60-500h600v-160H180v160Zm220 220h160v-160H400v160Zm0 220h160v-160H400v160ZM180-400h160v-160H180v160Zm440 0h160v-160H620v160ZM180-180h160v-160H180v160Zm440 0h160v-160H620v160Z\"/>\n",
              "  </svg>\n",
              "    </button>\n",
              "\n",
              "  <style>\n",
              "    .colab-df-container {\n",
              "      display:flex;\n",
              "      gap: 12px;\n",
              "    }\n",
              "\n",
              "    .colab-df-convert {\n",
              "      background-color: #E8F0FE;\n",
              "      border: none;\n",
              "      border-radius: 50%;\n",
              "      cursor: pointer;\n",
              "      display: none;\n",
              "      fill: #1967D2;\n",
              "      height: 32px;\n",
              "      padding: 0 0 0 0;\n",
              "      width: 32px;\n",
              "    }\n",
              "\n",
              "    .colab-df-convert:hover {\n",
              "      background-color: #E2EBFA;\n",
              "      box-shadow: 0px 1px 2px rgba(60, 64, 67, 0.3), 0px 1px 3px 1px rgba(60, 64, 67, 0.15);\n",
              "      fill: #174EA6;\n",
              "    }\n",
              "\n",
              "    .colab-df-buttons div {\n",
              "      margin-bottom: 4px;\n",
              "    }\n",
              "\n",
              "    [theme=dark] .colab-df-convert {\n",
              "      background-color: #3B4455;\n",
              "      fill: #D2E3FC;\n",
              "    }\n",
              "\n",
              "    [theme=dark] .colab-df-convert:hover {\n",
              "      background-color: #434B5C;\n",
              "      box-shadow: 0px 1px 3px 1px rgba(0, 0, 0, 0.15);\n",
              "      filter: drop-shadow(0px 1px 2px rgba(0, 0, 0, 0.3));\n",
              "      fill: #FFFFFF;\n",
              "    }\n",
              "  </style>\n",
              "\n",
              "    <script>\n",
              "      const buttonEl =\n",
              "        document.querySelector('#df-a5c789ae-d509-44c0-8fd3-9c8255c9fa43 button.colab-df-convert');\n",
              "      buttonEl.style.display =\n",
              "        google.colab.kernel.accessAllowed ? 'block' : 'none';\n",
              "\n",
              "      async function convertToInteractive(key) {\n",
              "        const element = document.querySelector('#df-a5c789ae-d509-44c0-8fd3-9c8255c9fa43');\n",
              "        const dataTable =\n",
              "          await google.colab.kernel.invokeFunction('convertToInteractive',\n",
              "                                                    [key], {});\n",
              "        if (!dataTable) return;\n",
              "\n",
              "        const docLinkHtml = 'Like what you see? Visit the ' +\n",
              "          '<a target=\"_blank\" href=https://colab.research.google.com/notebooks/data_table.ipynb>data table notebook</a>'\n",
              "          + ' to learn more about interactive tables.';\n",
              "        element.innerHTML = '';\n",
              "        dataTable['output_type'] = 'display_data';\n",
              "        await google.colab.output.renderOutput(dataTable, element);\n",
              "        const docLink = document.createElement('div');\n",
              "        docLink.innerHTML = docLinkHtml;\n",
              "        element.appendChild(docLink);\n",
              "      }\n",
              "    </script>\n",
              "  </div>\n",
              "\n",
              "\n",
              "<div id=\"df-a90aa687-5a7a-4a36-b4b7-9d4c6fc34281\">\n",
              "  <button class=\"colab-df-quickchart\" onclick=\"quickchart('df-a90aa687-5a7a-4a36-b4b7-9d4c6fc34281')\"\n",
              "            title=\"Suggest charts\"\n",
              "            style=\"display:none;\">\n",
              "\n",
              "<svg xmlns=\"http://www.w3.org/2000/svg\" height=\"24px\"viewBox=\"0 0 24 24\"\n",
              "     width=\"24px\">\n",
              "    <g>\n",
              "        <path d=\"M19 3H5c-1.1 0-2 .9-2 2v14c0 1.1.9 2 2 2h14c1.1 0 2-.9 2-2V5c0-1.1-.9-2-2-2zM9 17H7v-7h2v7zm4 0h-2V7h2v10zm4 0h-2v-4h2v4z\"/>\n",
              "    </g>\n",
              "</svg>\n",
              "  </button>\n",
              "\n",
              "<style>\n",
              "  .colab-df-quickchart {\n",
              "      --bg-color: #E8F0FE;\n",
              "      --fill-color: #1967D2;\n",
              "      --hover-bg-color: #E2EBFA;\n",
              "      --hover-fill-color: #174EA6;\n",
              "      --disabled-fill-color: #AAA;\n",
              "      --disabled-bg-color: #DDD;\n",
              "  }\n",
              "\n",
              "  [theme=dark] .colab-df-quickchart {\n",
              "      --bg-color: #3B4455;\n",
              "      --fill-color: #D2E3FC;\n",
              "      --hover-bg-color: #434B5C;\n",
              "      --hover-fill-color: #FFFFFF;\n",
              "      --disabled-bg-color: #3B4455;\n",
              "      --disabled-fill-color: #666;\n",
              "  }\n",
              "\n",
              "  .colab-df-quickchart {\n",
              "    background-color: var(--bg-color);\n",
              "    border: none;\n",
              "    border-radius: 50%;\n",
              "    cursor: pointer;\n",
              "    display: none;\n",
              "    fill: var(--fill-color);\n",
              "    height: 32px;\n",
              "    padding: 0;\n",
              "    width: 32px;\n",
              "  }\n",
              "\n",
              "  .colab-df-quickchart:hover {\n",
              "    background-color: var(--hover-bg-color);\n",
              "    box-shadow: 0 1px 2px rgba(60, 64, 67, 0.3), 0 1px 3px 1px rgba(60, 64, 67, 0.15);\n",
              "    fill: var(--button-hover-fill-color);\n",
              "  }\n",
              "\n",
              "  .colab-df-quickchart-complete:disabled,\n",
              "  .colab-df-quickchart-complete:disabled:hover {\n",
              "    background-color: var(--disabled-bg-color);\n",
              "    fill: var(--disabled-fill-color);\n",
              "    box-shadow: none;\n",
              "  }\n",
              "\n",
              "  .colab-df-spinner {\n",
              "    border: 2px solid var(--fill-color);\n",
              "    border-color: transparent;\n",
              "    border-bottom-color: var(--fill-color);\n",
              "    animation:\n",
              "      spin 1s steps(1) infinite;\n",
              "  }\n",
              "\n",
              "  @keyframes spin {\n",
              "    0% {\n",
              "      border-color: transparent;\n",
              "      border-bottom-color: var(--fill-color);\n",
              "      border-left-color: var(--fill-color);\n",
              "    }\n",
              "    20% {\n",
              "      border-color: transparent;\n",
              "      border-left-color: var(--fill-color);\n",
              "      border-top-color: var(--fill-color);\n",
              "    }\n",
              "    30% {\n",
              "      border-color: transparent;\n",
              "      border-left-color: var(--fill-color);\n",
              "      border-top-color: var(--fill-color);\n",
              "      border-right-color: var(--fill-color);\n",
              "    }\n",
              "    40% {\n",
              "      border-color: transparent;\n",
              "      border-right-color: var(--fill-color);\n",
              "      border-top-color: var(--fill-color);\n",
              "    }\n",
              "    60% {\n",
              "      border-color: transparent;\n",
              "      border-right-color: var(--fill-color);\n",
              "    }\n",
              "    80% {\n",
              "      border-color: transparent;\n",
              "      border-right-color: var(--fill-color);\n",
              "      border-bottom-color: var(--fill-color);\n",
              "    }\n",
              "    90% {\n",
              "      border-color: transparent;\n",
              "      border-bottom-color: var(--fill-color);\n",
              "    }\n",
              "  }\n",
              "</style>\n",
              "\n",
              "  <script>\n",
              "    async function quickchart(key) {\n",
              "      const quickchartButtonEl =\n",
              "        document.querySelector('#' + key + ' button');\n",
              "      quickchartButtonEl.disabled = true;  // To prevent multiple clicks.\n",
              "      quickchartButtonEl.classList.add('colab-df-spinner');\n",
              "      try {\n",
              "        const charts = await google.colab.kernel.invokeFunction(\n",
              "            'suggestCharts', [key], {});\n",
              "      } catch (error) {\n",
              "        console.error('Error during call to suggestCharts:', error);\n",
              "      }\n",
              "      quickchartButtonEl.classList.remove('colab-df-spinner');\n",
              "      quickchartButtonEl.classList.add('colab-df-quickchart-complete');\n",
              "    }\n",
              "    (() => {\n",
              "      let quickchartButtonEl =\n",
              "        document.querySelector('#df-a90aa687-5a7a-4a36-b4b7-9d4c6fc34281 button');\n",
              "      quickchartButtonEl.style.display =\n",
              "        google.colab.kernel.accessAllowed ? 'block' : 'none';\n",
              "    })();\n",
              "  </script>\n",
              "</div>\n",
              "\n",
              "    </div>\n",
              "  </div>\n"
            ]
          },
          "metadata": {},
          "execution_count": 4
        }
      ]
    },
    {
      "cell_type": "code",
      "source": [
        "df.shape"
      ],
      "metadata": {
        "id": "l9DHz5x-4aqK",
        "colab": {
          "base_uri": "https://localhost:8080/"
        },
        "outputId": "6841bcce-13e7-47c0-ce1f-50b71dfe4a01"
      },
      "execution_count": 5,
      "outputs": [
        {
          "output_type": "execute_result",
          "data": {
            "text/plain": [
              "(46022, 13)"
            ]
          },
          "metadata": {},
          "execution_count": 5
        }
      ]
    },
    {
      "cell_type": "code",
      "source": [
        "df.info()"
      ],
      "metadata": {
        "id": "u0SQnsLY4dps",
        "colab": {
          "base_uri": "https://localhost:8080/"
        },
        "outputId": "d8ffcf58-2a83-448b-afa6-7f9d60a4ea7e"
      },
      "execution_count": 6,
      "outputs": [
        {
          "output_type": "stream",
          "name": "stdout",
          "text": [
            "<class 'pandas.core.frame.DataFrame'>\n",
            "RangeIndex: 46022 entries, 0 to 46021\n",
            "Data columns (total 13 columns):\n",
            " #   Column               Non-Null Count  Dtype \n",
            "---  ------               --------------  ----- \n",
            " 0   Company Name         46022 non-null  object\n",
            " 1   Model Name           46022 non-null  object\n",
            " 2   Price                46022 non-null  int64 \n",
            " 3   Model Year           46022 non-null  int64 \n",
            " 4   Location             46022 non-null  object\n",
            " 5   Mileage              46022 non-null  int64 \n",
            " 6   Engine Type          46022 non-null  object\n",
            " 7   Engine Capacity      46022 non-null  int64 \n",
            " 8   Color                46022 non-null  object\n",
            " 9   Assembly             46022 non-null  object\n",
            " 10  Body Type            46022 non-null  object\n",
            " 11  Transmission Type    46022 non-null  object\n",
            " 12  Registration Status  46022 non-null  object\n",
            "dtypes: int64(4), object(9)\n",
            "memory usage: 4.6+ MB\n"
          ]
        }
      ]
    },
    {
      "cell_type": "code",
      "source": [
        "df.describe()"
      ],
      "metadata": {
        "id": "HvNonUdD4ge8",
        "colab": {
          "base_uri": "https://localhost:8080/",
          "height": 300
        },
        "outputId": "40523c7c-cb16-43b9-85a9-700772fe4fa0"
      },
      "execution_count": 7,
      "outputs": [
        {
          "output_type": "execute_result",
          "data": {
            "text/plain": [
              "              Price    Model Year        Mileage  Engine Capacity\n",
              "count  4.602200e+04  46022.000000   46022.000000     46022.000000\n",
              "mean   2.014153e+06   2011.035374   90965.128243      1313.115575\n",
              "std    2.939071e+06      6.399403   63656.656034       614.690832\n",
              "min    1.110000e+05   1990.000000       1.000000        16.000000\n",
              "25%    8.500000e+05   2007.000000   48899.500000      1000.000000\n",
              "50%    1.450000e+06   2013.000000   80000.000000      1300.000000\n",
              "75%    2.300000e+06   2016.000000  120000.000000      1500.000000\n",
              "max    7.750000e+07   2019.000000  999999.000000      6600.000000"
            ],
            "text/html": [
              "\n",
              "  <div id=\"df-9a036637-1cb3-4e98-9263-76d66484d645\" class=\"colab-df-container\">\n",
              "    <div>\n",
              "<style scoped>\n",
              "    .dataframe tbody tr th:only-of-type {\n",
              "        vertical-align: middle;\n",
              "    }\n",
              "\n",
              "    .dataframe tbody tr th {\n",
              "        vertical-align: top;\n",
              "    }\n",
              "\n",
              "    .dataframe thead th {\n",
              "        text-align: right;\n",
              "    }\n",
              "</style>\n",
              "<table border=\"1\" class=\"dataframe\">\n",
              "  <thead>\n",
              "    <tr style=\"text-align: right;\">\n",
              "      <th></th>\n",
              "      <th>Price</th>\n",
              "      <th>Model Year</th>\n",
              "      <th>Mileage</th>\n",
              "      <th>Engine Capacity</th>\n",
              "    </tr>\n",
              "  </thead>\n",
              "  <tbody>\n",
              "    <tr>\n",
              "      <th>count</th>\n",
              "      <td>4.602200e+04</td>\n",
              "      <td>46022.000000</td>\n",
              "      <td>46022.000000</td>\n",
              "      <td>46022.000000</td>\n",
              "    </tr>\n",
              "    <tr>\n",
              "      <th>mean</th>\n",
              "      <td>2.014153e+06</td>\n",
              "      <td>2011.035374</td>\n",
              "      <td>90965.128243</td>\n",
              "      <td>1313.115575</td>\n",
              "    </tr>\n",
              "    <tr>\n",
              "      <th>std</th>\n",
              "      <td>2.939071e+06</td>\n",
              "      <td>6.399403</td>\n",
              "      <td>63656.656034</td>\n",
              "      <td>614.690832</td>\n",
              "    </tr>\n",
              "    <tr>\n",
              "      <th>min</th>\n",
              "      <td>1.110000e+05</td>\n",
              "      <td>1990.000000</td>\n",
              "      <td>1.000000</td>\n",
              "      <td>16.000000</td>\n",
              "    </tr>\n",
              "    <tr>\n",
              "      <th>25%</th>\n",
              "      <td>8.500000e+05</td>\n",
              "      <td>2007.000000</td>\n",
              "      <td>48899.500000</td>\n",
              "      <td>1000.000000</td>\n",
              "    </tr>\n",
              "    <tr>\n",
              "      <th>50%</th>\n",
              "      <td>1.450000e+06</td>\n",
              "      <td>2013.000000</td>\n",
              "      <td>80000.000000</td>\n",
              "      <td>1300.000000</td>\n",
              "    </tr>\n",
              "    <tr>\n",
              "      <th>75%</th>\n",
              "      <td>2.300000e+06</td>\n",
              "      <td>2016.000000</td>\n",
              "      <td>120000.000000</td>\n",
              "      <td>1500.000000</td>\n",
              "    </tr>\n",
              "    <tr>\n",
              "      <th>max</th>\n",
              "      <td>7.750000e+07</td>\n",
              "      <td>2019.000000</td>\n",
              "      <td>999999.000000</td>\n",
              "      <td>6600.000000</td>\n",
              "    </tr>\n",
              "  </tbody>\n",
              "</table>\n",
              "</div>\n",
              "    <div class=\"colab-df-buttons\">\n",
              "\n",
              "  <div class=\"colab-df-container\">\n",
              "    <button class=\"colab-df-convert\" onclick=\"convertToInteractive('df-9a036637-1cb3-4e98-9263-76d66484d645')\"\n",
              "            title=\"Convert this dataframe to an interactive table.\"\n",
              "            style=\"display:none;\">\n",
              "\n",
              "  <svg xmlns=\"http://www.w3.org/2000/svg\" height=\"24px\" viewBox=\"0 -960 960 960\">\n",
              "    <path d=\"M120-120v-720h720v720H120Zm60-500h600v-160H180v160Zm220 220h160v-160H400v160Zm0 220h160v-160H400v160ZM180-400h160v-160H180v160Zm440 0h160v-160H620v160ZM180-180h160v-160H180v160Zm440 0h160v-160H620v160Z\"/>\n",
              "  </svg>\n",
              "    </button>\n",
              "\n",
              "  <style>\n",
              "    .colab-df-container {\n",
              "      display:flex;\n",
              "      gap: 12px;\n",
              "    }\n",
              "\n",
              "    .colab-df-convert {\n",
              "      background-color: #E8F0FE;\n",
              "      border: none;\n",
              "      border-radius: 50%;\n",
              "      cursor: pointer;\n",
              "      display: none;\n",
              "      fill: #1967D2;\n",
              "      height: 32px;\n",
              "      padding: 0 0 0 0;\n",
              "      width: 32px;\n",
              "    }\n",
              "\n",
              "    .colab-df-convert:hover {\n",
              "      background-color: #E2EBFA;\n",
              "      box-shadow: 0px 1px 2px rgba(60, 64, 67, 0.3), 0px 1px 3px 1px rgba(60, 64, 67, 0.15);\n",
              "      fill: #174EA6;\n",
              "    }\n",
              "\n",
              "    .colab-df-buttons div {\n",
              "      margin-bottom: 4px;\n",
              "    }\n",
              "\n",
              "    [theme=dark] .colab-df-convert {\n",
              "      background-color: #3B4455;\n",
              "      fill: #D2E3FC;\n",
              "    }\n",
              "\n",
              "    [theme=dark] .colab-df-convert:hover {\n",
              "      background-color: #434B5C;\n",
              "      box-shadow: 0px 1px 3px 1px rgba(0, 0, 0, 0.15);\n",
              "      filter: drop-shadow(0px 1px 2px rgba(0, 0, 0, 0.3));\n",
              "      fill: #FFFFFF;\n",
              "    }\n",
              "  </style>\n",
              "\n",
              "    <script>\n",
              "      const buttonEl =\n",
              "        document.querySelector('#df-9a036637-1cb3-4e98-9263-76d66484d645 button.colab-df-convert');\n",
              "      buttonEl.style.display =\n",
              "        google.colab.kernel.accessAllowed ? 'block' : 'none';\n",
              "\n",
              "      async function convertToInteractive(key) {\n",
              "        const element = document.querySelector('#df-9a036637-1cb3-4e98-9263-76d66484d645');\n",
              "        const dataTable =\n",
              "          await google.colab.kernel.invokeFunction('convertToInteractive',\n",
              "                                                    [key], {});\n",
              "        if (!dataTable) return;\n",
              "\n",
              "        const docLinkHtml = 'Like what you see? Visit the ' +\n",
              "          '<a target=\"_blank\" href=https://colab.research.google.com/notebooks/data_table.ipynb>data table notebook</a>'\n",
              "          + ' to learn more about interactive tables.';\n",
              "        element.innerHTML = '';\n",
              "        dataTable['output_type'] = 'display_data';\n",
              "        await google.colab.output.renderOutput(dataTable, element);\n",
              "        const docLink = document.createElement('div');\n",
              "        docLink.innerHTML = docLinkHtml;\n",
              "        element.appendChild(docLink);\n",
              "      }\n",
              "    </script>\n",
              "  </div>\n",
              "\n",
              "\n",
              "<div id=\"df-c4136eca-3801-4d1d-95c5-a02fe731c68c\">\n",
              "  <button class=\"colab-df-quickchart\" onclick=\"quickchart('df-c4136eca-3801-4d1d-95c5-a02fe731c68c')\"\n",
              "            title=\"Suggest charts\"\n",
              "            style=\"display:none;\">\n",
              "\n",
              "<svg xmlns=\"http://www.w3.org/2000/svg\" height=\"24px\"viewBox=\"0 0 24 24\"\n",
              "     width=\"24px\">\n",
              "    <g>\n",
              "        <path d=\"M19 3H5c-1.1 0-2 .9-2 2v14c0 1.1.9 2 2 2h14c1.1 0 2-.9 2-2V5c0-1.1-.9-2-2-2zM9 17H7v-7h2v7zm4 0h-2V7h2v10zm4 0h-2v-4h2v4z\"/>\n",
              "    </g>\n",
              "</svg>\n",
              "  </button>\n",
              "\n",
              "<style>\n",
              "  .colab-df-quickchart {\n",
              "      --bg-color: #E8F0FE;\n",
              "      --fill-color: #1967D2;\n",
              "      --hover-bg-color: #E2EBFA;\n",
              "      --hover-fill-color: #174EA6;\n",
              "      --disabled-fill-color: #AAA;\n",
              "      --disabled-bg-color: #DDD;\n",
              "  }\n",
              "\n",
              "  [theme=dark] .colab-df-quickchart {\n",
              "      --bg-color: #3B4455;\n",
              "      --fill-color: #D2E3FC;\n",
              "      --hover-bg-color: #434B5C;\n",
              "      --hover-fill-color: #FFFFFF;\n",
              "      --disabled-bg-color: #3B4455;\n",
              "      --disabled-fill-color: #666;\n",
              "  }\n",
              "\n",
              "  .colab-df-quickchart {\n",
              "    background-color: var(--bg-color);\n",
              "    border: none;\n",
              "    border-radius: 50%;\n",
              "    cursor: pointer;\n",
              "    display: none;\n",
              "    fill: var(--fill-color);\n",
              "    height: 32px;\n",
              "    padding: 0;\n",
              "    width: 32px;\n",
              "  }\n",
              "\n",
              "  .colab-df-quickchart:hover {\n",
              "    background-color: var(--hover-bg-color);\n",
              "    box-shadow: 0 1px 2px rgba(60, 64, 67, 0.3), 0 1px 3px 1px rgba(60, 64, 67, 0.15);\n",
              "    fill: var(--button-hover-fill-color);\n",
              "  }\n",
              "\n",
              "  .colab-df-quickchart-complete:disabled,\n",
              "  .colab-df-quickchart-complete:disabled:hover {\n",
              "    background-color: var(--disabled-bg-color);\n",
              "    fill: var(--disabled-fill-color);\n",
              "    box-shadow: none;\n",
              "  }\n",
              "\n",
              "  .colab-df-spinner {\n",
              "    border: 2px solid var(--fill-color);\n",
              "    border-color: transparent;\n",
              "    border-bottom-color: var(--fill-color);\n",
              "    animation:\n",
              "      spin 1s steps(1) infinite;\n",
              "  }\n",
              "\n",
              "  @keyframes spin {\n",
              "    0% {\n",
              "      border-color: transparent;\n",
              "      border-bottom-color: var(--fill-color);\n",
              "      border-left-color: var(--fill-color);\n",
              "    }\n",
              "    20% {\n",
              "      border-color: transparent;\n",
              "      border-left-color: var(--fill-color);\n",
              "      border-top-color: var(--fill-color);\n",
              "    }\n",
              "    30% {\n",
              "      border-color: transparent;\n",
              "      border-left-color: var(--fill-color);\n",
              "      border-top-color: var(--fill-color);\n",
              "      border-right-color: var(--fill-color);\n",
              "    }\n",
              "    40% {\n",
              "      border-color: transparent;\n",
              "      border-right-color: var(--fill-color);\n",
              "      border-top-color: var(--fill-color);\n",
              "    }\n",
              "    60% {\n",
              "      border-color: transparent;\n",
              "      border-right-color: var(--fill-color);\n",
              "    }\n",
              "    80% {\n",
              "      border-color: transparent;\n",
              "      border-right-color: var(--fill-color);\n",
              "      border-bottom-color: var(--fill-color);\n",
              "    }\n",
              "    90% {\n",
              "      border-color: transparent;\n",
              "      border-bottom-color: var(--fill-color);\n",
              "    }\n",
              "  }\n",
              "</style>\n",
              "\n",
              "  <script>\n",
              "    async function quickchart(key) {\n",
              "      const quickchartButtonEl =\n",
              "        document.querySelector('#' + key + ' button');\n",
              "      quickchartButtonEl.disabled = true;  // To prevent multiple clicks.\n",
              "      quickchartButtonEl.classList.add('colab-df-spinner');\n",
              "      try {\n",
              "        const charts = await google.colab.kernel.invokeFunction(\n",
              "            'suggestCharts', [key], {});\n",
              "      } catch (error) {\n",
              "        console.error('Error during call to suggestCharts:', error);\n",
              "      }\n",
              "      quickchartButtonEl.classList.remove('colab-df-spinner');\n",
              "      quickchartButtonEl.classList.add('colab-df-quickchart-complete');\n",
              "    }\n",
              "    (() => {\n",
              "      let quickchartButtonEl =\n",
              "        document.querySelector('#df-c4136eca-3801-4d1d-95c5-a02fe731c68c button');\n",
              "      quickchartButtonEl.style.display =\n",
              "        google.colab.kernel.accessAllowed ? 'block' : 'none';\n",
              "    })();\n",
              "  </script>\n",
              "</div>\n",
              "\n",
              "    </div>\n",
              "  </div>\n"
            ]
          },
          "metadata": {},
          "execution_count": 7
        }
      ]
    },
    {
      "cell_type": "code",
      "source": [
        "df.head(2)"
      ],
      "metadata": {
        "id": "dwbNfcHj4iyc",
        "colab": {
          "base_uri": "https://localhost:8080/",
          "height": 129
        },
        "outputId": "5a702002-81b5-4e4f-9e0c-76ebaeb5c701"
      },
      "execution_count": 8,
      "outputs": [
        {
          "output_type": "execute_result",
          "data": {
            "text/plain": [
              "  Company Name Model Name    Price  Model Year   Location  Mileage  \\\n",
              "0       Toyota       Vitz  2385000        2017  Islamabad     9869   \n",
              "1       Toyota    Corolla   111000        2019        KPK    11111   \n",
              "\n",
              "  Engine Type  Engine Capacity   Color  Assembly  Body Type Transmission Type  \\\n",
              "0      Petrol             1000  Silver  Imported  Hatchback         Automatic   \n",
              "1      Petrol             1300   White     Local      Sedan         Automatic   \n",
              "\n",
              "  Registration Status  \n",
              "0       Un-Registered  \n",
              "1          Registered  "
            ],
            "text/html": [
              "\n",
              "  <div id=\"df-127589a1-0283-4064-89be-33c93da9cad0\" class=\"colab-df-container\">\n",
              "    <div>\n",
              "<style scoped>\n",
              "    .dataframe tbody tr th:only-of-type {\n",
              "        vertical-align: middle;\n",
              "    }\n",
              "\n",
              "    .dataframe tbody tr th {\n",
              "        vertical-align: top;\n",
              "    }\n",
              "\n",
              "    .dataframe thead th {\n",
              "        text-align: right;\n",
              "    }\n",
              "</style>\n",
              "<table border=\"1\" class=\"dataframe\">\n",
              "  <thead>\n",
              "    <tr style=\"text-align: right;\">\n",
              "      <th></th>\n",
              "      <th>Company Name</th>\n",
              "      <th>Model Name</th>\n",
              "      <th>Price</th>\n",
              "      <th>Model Year</th>\n",
              "      <th>Location</th>\n",
              "      <th>Mileage</th>\n",
              "      <th>Engine Type</th>\n",
              "      <th>Engine Capacity</th>\n",
              "      <th>Color</th>\n",
              "      <th>Assembly</th>\n",
              "      <th>Body Type</th>\n",
              "      <th>Transmission Type</th>\n",
              "      <th>Registration Status</th>\n",
              "    </tr>\n",
              "  </thead>\n",
              "  <tbody>\n",
              "    <tr>\n",
              "      <th>0</th>\n",
              "      <td>Toyota</td>\n",
              "      <td>Vitz</td>\n",
              "      <td>2385000</td>\n",
              "      <td>2017</td>\n",
              "      <td>Islamabad</td>\n",
              "      <td>9869</td>\n",
              "      <td>Petrol</td>\n",
              "      <td>1000</td>\n",
              "      <td>Silver</td>\n",
              "      <td>Imported</td>\n",
              "      <td>Hatchback</td>\n",
              "      <td>Automatic</td>\n",
              "      <td>Un-Registered</td>\n",
              "    </tr>\n",
              "    <tr>\n",
              "      <th>1</th>\n",
              "      <td>Toyota</td>\n",
              "      <td>Corolla</td>\n",
              "      <td>111000</td>\n",
              "      <td>2019</td>\n",
              "      <td>KPK</td>\n",
              "      <td>11111</td>\n",
              "      <td>Petrol</td>\n",
              "      <td>1300</td>\n",
              "      <td>White</td>\n",
              "      <td>Local</td>\n",
              "      <td>Sedan</td>\n",
              "      <td>Automatic</td>\n",
              "      <td>Registered</td>\n",
              "    </tr>\n",
              "  </tbody>\n",
              "</table>\n",
              "</div>\n",
              "    <div class=\"colab-df-buttons\">\n",
              "\n",
              "  <div class=\"colab-df-container\">\n",
              "    <button class=\"colab-df-convert\" onclick=\"convertToInteractive('df-127589a1-0283-4064-89be-33c93da9cad0')\"\n",
              "            title=\"Convert this dataframe to an interactive table.\"\n",
              "            style=\"display:none;\">\n",
              "\n",
              "  <svg xmlns=\"http://www.w3.org/2000/svg\" height=\"24px\" viewBox=\"0 -960 960 960\">\n",
              "    <path d=\"M120-120v-720h720v720H120Zm60-500h600v-160H180v160Zm220 220h160v-160H400v160Zm0 220h160v-160H400v160ZM180-400h160v-160H180v160Zm440 0h160v-160H620v160ZM180-180h160v-160H180v160Zm440 0h160v-160H620v160Z\"/>\n",
              "  </svg>\n",
              "    </button>\n",
              "\n",
              "  <style>\n",
              "    .colab-df-container {\n",
              "      display:flex;\n",
              "      gap: 12px;\n",
              "    }\n",
              "\n",
              "    .colab-df-convert {\n",
              "      background-color: #E8F0FE;\n",
              "      border: none;\n",
              "      border-radius: 50%;\n",
              "      cursor: pointer;\n",
              "      display: none;\n",
              "      fill: #1967D2;\n",
              "      height: 32px;\n",
              "      padding: 0 0 0 0;\n",
              "      width: 32px;\n",
              "    }\n",
              "\n",
              "    .colab-df-convert:hover {\n",
              "      background-color: #E2EBFA;\n",
              "      box-shadow: 0px 1px 2px rgba(60, 64, 67, 0.3), 0px 1px 3px 1px rgba(60, 64, 67, 0.15);\n",
              "      fill: #174EA6;\n",
              "    }\n",
              "\n",
              "    .colab-df-buttons div {\n",
              "      margin-bottom: 4px;\n",
              "    }\n",
              "\n",
              "    [theme=dark] .colab-df-convert {\n",
              "      background-color: #3B4455;\n",
              "      fill: #D2E3FC;\n",
              "    }\n",
              "\n",
              "    [theme=dark] .colab-df-convert:hover {\n",
              "      background-color: #434B5C;\n",
              "      box-shadow: 0px 1px 3px 1px rgba(0, 0, 0, 0.15);\n",
              "      filter: drop-shadow(0px 1px 2px rgba(0, 0, 0, 0.3));\n",
              "      fill: #FFFFFF;\n",
              "    }\n",
              "  </style>\n",
              "\n",
              "    <script>\n",
              "      const buttonEl =\n",
              "        document.querySelector('#df-127589a1-0283-4064-89be-33c93da9cad0 button.colab-df-convert');\n",
              "      buttonEl.style.display =\n",
              "        google.colab.kernel.accessAllowed ? 'block' : 'none';\n",
              "\n",
              "      async function convertToInteractive(key) {\n",
              "        const element = document.querySelector('#df-127589a1-0283-4064-89be-33c93da9cad0');\n",
              "        const dataTable =\n",
              "          await google.colab.kernel.invokeFunction('convertToInteractive',\n",
              "                                                    [key], {});\n",
              "        if (!dataTable) return;\n",
              "\n",
              "        const docLinkHtml = 'Like what you see? Visit the ' +\n",
              "          '<a target=\"_blank\" href=https://colab.research.google.com/notebooks/data_table.ipynb>data table notebook</a>'\n",
              "          + ' to learn more about interactive tables.';\n",
              "        element.innerHTML = '';\n",
              "        dataTable['output_type'] = 'display_data';\n",
              "        await google.colab.output.renderOutput(dataTable, element);\n",
              "        const docLink = document.createElement('div');\n",
              "        docLink.innerHTML = docLinkHtml;\n",
              "        element.appendChild(docLink);\n",
              "      }\n",
              "    </script>\n",
              "  </div>\n",
              "\n",
              "\n",
              "<div id=\"df-f440fbdd-c8f0-4f48-bf22-444baa4f0328\">\n",
              "  <button class=\"colab-df-quickchart\" onclick=\"quickchart('df-f440fbdd-c8f0-4f48-bf22-444baa4f0328')\"\n",
              "            title=\"Suggest charts\"\n",
              "            style=\"display:none;\">\n",
              "\n",
              "<svg xmlns=\"http://www.w3.org/2000/svg\" height=\"24px\"viewBox=\"0 0 24 24\"\n",
              "     width=\"24px\">\n",
              "    <g>\n",
              "        <path d=\"M19 3H5c-1.1 0-2 .9-2 2v14c0 1.1.9 2 2 2h14c1.1 0 2-.9 2-2V5c0-1.1-.9-2-2-2zM9 17H7v-7h2v7zm4 0h-2V7h2v10zm4 0h-2v-4h2v4z\"/>\n",
              "    </g>\n",
              "</svg>\n",
              "  </button>\n",
              "\n",
              "<style>\n",
              "  .colab-df-quickchart {\n",
              "      --bg-color: #E8F0FE;\n",
              "      --fill-color: #1967D2;\n",
              "      --hover-bg-color: #E2EBFA;\n",
              "      --hover-fill-color: #174EA6;\n",
              "      --disabled-fill-color: #AAA;\n",
              "      --disabled-bg-color: #DDD;\n",
              "  }\n",
              "\n",
              "  [theme=dark] .colab-df-quickchart {\n",
              "      --bg-color: #3B4455;\n",
              "      --fill-color: #D2E3FC;\n",
              "      --hover-bg-color: #434B5C;\n",
              "      --hover-fill-color: #FFFFFF;\n",
              "      --disabled-bg-color: #3B4455;\n",
              "      --disabled-fill-color: #666;\n",
              "  }\n",
              "\n",
              "  .colab-df-quickchart {\n",
              "    background-color: var(--bg-color);\n",
              "    border: none;\n",
              "    border-radius: 50%;\n",
              "    cursor: pointer;\n",
              "    display: none;\n",
              "    fill: var(--fill-color);\n",
              "    height: 32px;\n",
              "    padding: 0;\n",
              "    width: 32px;\n",
              "  }\n",
              "\n",
              "  .colab-df-quickchart:hover {\n",
              "    background-color: var(--hover-bg-color);\n",
              "    box-shadow: 0 1px 2px rgba(60, 64, 67, 0.3), 0 1px 3px 1px rgba(60, 64, 67, 0.15);\n",
              "    fill: var(--button-hover-fill-color);\n",
              "  }\n",
              "\n",
              "  .colab-df-quickchart-complete:disabled,\n",
              "  .colab-df-quickchart-complete:disabled:hover {\n",
              "    background-color: var(--disabled-bg-color);\n",
              "    fill: var(--disabled-fill-color);\n",
              "    box-shadow: none;\n",
              "  }\n",
              "\n",
              "  .colab-df-spinner {\n",
              "    border: 2px solid var(--fill-color);\n",
              "    border-color: transparent;\n",
              "    border-bottom-color: var(--fill-color);\n",
              "    animation:\n",
              "      spin 1s steps(1) infinite;\n",
              "  }\n",
              "\n",
              "  @keyframes spin {\n",
              "    0% {\n",
              "      border-color: transparent;\n",
              "      border-bottom-color: var(--fill-color);\n",
              "      border-left-color: var(--fill-color);\n",
              "    }\n",
              "    20% {\n",
              "      border-color: transparent;\n",
              "      border-left-color: var(--fill-color);\n",
              "      border-top-color: var(--fill-color);\n",
              "    }\n",
              "    30% {\n",
              "      border-color: transparent;\n",
              "      border-left-color: var(--fill-color);\n",
              "      border-top-color: var(--fill-color);\n",
              "      border-right-color: var(--fill-color);\n",
              "    }\n",
              "    40% {\n",
              "      border-color: transparent;\n",
              "      border-right-color: var(--fill-color);\n",
              "      border-top-color: var(--fill-color);\n",
              "    }\n",
              "    60% {\n",
              "      border-color: transparent;\n",
              "      border-right-color: var(--fill-color);\n",
              "    }\n",
              "    80% {\n",
              "      border-color: transparent;\n",
              "      border-right-color: var(--fill-color);\n",
              "      border-bottom-color: var(--fill-color);\n",
              "    }\n",
              "    90% {\n",
              "      border-color: transparent;\n",
              "      border-bottom-color: var(--fill-color);\n",
              "    }\n",
              "  }\n",
              "</style>\n",
              "\n",
              "  <script>\n",
              "    async function quickchart(key) {\n",
              "      const quickchartButtonEl =\n",
              "        document.querySelector('#' + key + ' button');\n",
              "      quickchartButtonEl.disabled = true;  // To prevent multiple clicks.\n",
              "      quickchartButtonEl.classList.add('colab-df-spinner');\n",
              "      try {\n",
              "        const charts = await google.colab.kernel.invokeFunction(\n",
              "            'suggestCharts', [key], {});\n",
              "      } catch (error) {\n",
              "        console.error('Error during call to suggestCharts:', error);\n",
              "      }\n",
              "      quickchartButtonEl.classList.remove('colab-df-spinner');\n",
              "      quickchartButtonEl.classList.add('colab-df-quickchart-complete');\n",
              "    }\n",
              "    (() => {\n",
              "      let quickchartButtonEl =\n",
              "        document.querySelector('#df-f440fbdd-c8f0-4f48-bf22-444baa4f0328 button');\n",
              "      quickchartButtonEl.style.display =\n",
              "        google.colab.kernel.accessAllowed ? 'block' : 'none';\n",
              "    })();\n",
              "  </script>\n",
              "</div>\n",
              "\n",
              "    </div>\n",
              "  </div>\n"
            ]
          },
          "metadata": {},
          "execution_count": 8
        }
      ]
    },
    {
      "cell_type": "code",
      "source": [
        "# Checking for duplicated values in the dataset\n",
        "\n",
        "df.duplicated().sum()"
      ],
      "metadata": {
        "id": "G1n10Sds5Ax5",
        "colab": {
          "base_uri": "https://localhost:8080/"
        },
        "outputId": "3924abea-b5be-4c5b-dde5-6464c01d222b"
      },
      "execution_count": 9,
      "outputs": [
        {
          "output_type": "execute_result",
          "data": {
            "text/plain": [
              "815"
            ]
          },
          "metadata": {},
          "execution_count": 9
        }
      ]
    },
    {
      "cell_type": "code",
      "source": [
        "# Checking the Percentage of Duplicated Values\n",
        "\n",
        "(df.duplicated().sum()/ df.shape[0]) * 100"
      ],
      "metadata": {
        "id": "ftbkhtvz8_xL",
        "colab": {
          "base_uri": "https://localhost:8080/"
        },
        "outputId": "45efd413-bbf3-49dd-f9f2-0440108c7344"
      },
      "execution_count": 10,
      "outputs": [
        {
          "output_type": "execute_result",
          "data": {
            "text/plain": [
              "1.770892181999913"
            ]
          },
          "metadata": {},
          "execution_count": 10
        }
      ]
    },
    {
      "cell_type": "code",
      "source": [
        "df.shape[0]"
      ],
      "metadata": {
        "id": "BL3nCzYI8p1g",
        "colab": {
          "base_uri": "https://localhost:8080/"
        },
        "outputId": "f44d9ed7-400b-4577-c1c6-501746208b17"
      },
      "execution_count": 11,
      "outputs": [
        {
          "output_type": "execute_result",
          "data": {
            "text/plain": [
              "46022"
            ]
          },
          "metadata": {},
          "execution_count": 11
        }
      ]
    },
    {
      "cell_type": "code",
      "source": [
        "# Removing the duplicated values\n",
        "\n",
        "df.drop_duplicates(inplace = True)"
      ],
      "metadata": {
        "id": "92l-hH5c6GLK"
      },
      "execution_count": 12,
      "outputs": []
    },
    {
      "cell_type": "code",
      "source": [
        "df.duplicated().sum()"
      ],
      "metadata": {
        "id": "i6fCTJfe7ABR",
        "colab": {
          "base_uri": "https://localhost:8080/"
        },
        "outputId": "7f128dad-4cb0-4d0c-cb6a-d55e045f70ac"
      },
      "execution_count": 13,
      "outputs": [
        {
          "output_type": "execute_result",
          "data": {
            "text/plain": [
              "0"
            ]
          },
          "metadata": {},
          "execution_count": 13
        }
      ]
    },
    {
      "cell_type": "code",
      "source": [
        "df.head(3)"
      ],
      "metadata": {
        "id": "8O7mK6S67GMp",
        "colab": {
          "base_uri": "https://localhost:8080/",
          "height": 161
        },
        "outputId": "7375f19a-6fd3-4c65-f320-b18f022cb153"
      },
      "execution_count": 14,
      "outputs": [
        {
          "output_type": "execute_result",
          "data": {
            "text/plain": [
              "  Company Name Model Name    Price  Model Year   Location  Mileage  \\\n",
              "0       Toyota       Vitz  2385000        2017  Islamabad     9869   \n",
              "1       Toyota    Corolla   111000        2019        KPK    11111   \n",
              "2       Suzuki       Alto  1530000        2019        KPK    17500   \n",
              "\n",
              "  Engine Type  Engine Capacity   Color  Assembly  Body Type Transmission Type  \\\n",
              "0      Petrol             1000  Silver  Imported  Hatchback         Automatic   \n",
              "1      Petrol             1300   White     Local      Sedan         Automatic   \n",
              "2      Petrol              660   White     Local  Hatchback         Automatic   \n",
              "\n",
              "  Registration Status  \n",
              "0       Un-Registered  \n",
              "1          Registered  \n",
              "2       Un-Registered  "
            ],
            "text/html": [
              "\n",
              "  <div id=\"df-b90d0ff2-7cad-455d-8871-a399202c5f7c\" class=\"colab-df-container\">\n",
              "    <div>\n",
              "<style scoped>\n",
              "    .dataframe tbody tr th:only-of-type {\n",
              "        vertical-align: middle;\n",
              "    }\n",
              "\n",
              "    .dataframe tbody tr th {\n",
              "        vertical-align: top;\n",
              "    }\n",
              "\n",
              "    .dataframe thead th {\n",
              "        text-align: right;\n",
              "    }\n",
              "</style>\n",
              "<table border=\"1\" class=\"dataframe\">\n",
              "  <thead>\n",
              "    <tr style=\"text-align: right;\">\n",
              "      <th></th>\n",
              "      <th>Company Name</th>\n",
              "      <th>Model Name</th>\n",
              "      <th>Price</th>\n",
              "      <th>Model Year</th>\n",
              "      <th>Location</th>\n",
              "      <th>Mileage</th>\n",
              "      <th>Engine Type</th>\n",
              "      <th>Engine Capacity</th>\n",
              "      <th>Color</th>\n",
              "      <th>Assembly</th>\n",
              "      <th>Body Type</th>\n",
              "      <th>Transmission Type</th>\n",
              "      <th>Registration Status</th>\n",
              "    </tr>\n",
              "  </thead>\n",
              "  <tbody>\n",
              "    <tr>\n",
              "      <th>0</th>\n",
              "      <td>Toyota</td>\n",
              "      <td>Vitz</td>\n",
              "      <td>2385000</td>\n",
              "      <td>2017</td>\n",
              "      <td>Islamabad</td>\n",
              "      <td>9869</td>\n",
              "      <td>Petrol</td>\n",
              "      <td>1000</td>\n",
              "      <td>Silver</td>\n",
              "      <td>Imported</td>\n",
              "      <td>Hatchback</td>\n",
              "      <td>Automatic</td>\n",
              "      <td>Un-Registered</td>\n",
              "    </tr>\n",
              "    <tr>\n",
              "      <th>1</th>\n",
              "      <td>Toyota</td>\n",
              "      <td>Corolla</td>\n",
              "      <td>111000</td>\n",
              "      <td>2019</td>\n",
              "      <td>KPK</td>\n",
              "      <td>11111</td>\n",
              "      <td>Petrol</td>\n",
              "      <td>1300</td>\n",
              "      <td>White</td>\n",
              "      <td>Local</td>\n",
              "      <td>Sedan</td>\n",
              "      <td>Automatic</td>\n",
              "      <td>Registered</td>\n",
              "    </tr>\n",
              "    <tr>\n",
              "      <th>2</th>\n",
              "      <td>Suzuki</td>\n",
              "      <td>Alto</td>\n",
              "      <td>1530000</td>\n",
              "      <td>2019</td>\n",
              "      <td>KPK</td>\n",
              "      <td>17500</td>\n",
              "      <td>Petrol</td>\n",
              "      <td>660</td>\n",
              "      <td>White</td>\n",
              "      <td>Local</td>\n",
              "      <td>Hatchback</td>\n",
              "      <td>Automatic</td>\n",
              "      <td>Un-Registered</td>\n",
              "    </tr>\n",
              "  </tbody>\n",
              "</table>\n",
              "</div>\n",
              "    <div class=\"colab-df-buttons\">\n",
              "\n",
              "  <div class=\"colab-df-container\">\n",
              "    <button class=\"colab-df-convert\" onclick=\"convertToInteractive('df-b90d0ff2-7cad-455d-8871-a399202c5f7c')\"\n",
              "            title=\"Convert this dataframe to an interactive table.\"\n",
              "            style=\"display:none;\">\n",
              "\n",
              "  <svg xmlns=\"http://www.w3.org/2000/svg\" height=\"24px\" viewBox=\"0 -960 960 960\">\n",
              "    <path d=\"M120-120v-720h720v720H120Zm60-500h600v-160H180v160Zm220 220h160v-160H400v160Zm0 220h160v-160H400v160ZM180-400h160v-160H180v160Zm440 0h160v-160H620v160ZM180-180h160v-160H180v160Zm440 0h160v-160H620v160Z\"/>\n",
              "  </svg>\n",
              "    </button>\n",
              "\n",
              "  <style>\n",
              "    .colab-df-container {\n",
              "      display:flex;\n",
              "      gap: 12px;\n",
              "    }\n",
              "\n",
              "    .colab-df-convert {\n",
              "      background-color: #E8F0FE;\n",
              "      border: none;\n",
              "      border-radius: 50%;\n",
              "      cursor: pointer;\n",
              "      display: none;\n",
              "      fill: #1967D2;\n",
              "      height: 32px;\n",
              "      padding: 0 0 0 0;\n",
              "      width: 32px;\n",
              "    }\n",
              "\n",
              "    .colab-df-convert:hover {\n",
              "      background-color: #E2EBFA;\n",
              "      box-shadow: 0px 1px 2px rgba(60, 64, 67, 0.3), 0px 1px 3px 1px rgba(60, 64, 67, 0.15);\n",
              "      fill: #174EA6;\n",
              "    }\n",
              "\n",
              "    .colab-df-buttons div {\n",
              "      margin-bottom: 4px;\n",
              "    }\n",
              "\n",
              "    [theme=dark] .colab-df-convert {\n",
              "      background-color: #3B4455;\n",
              "      fill: #D2E3FC;\n",
              "    }\n",
              "\n",
              "    [theme=dark] .colab-df-convert:hover {\n",
              "      background-color: #434B5C;\n",
              "      box-shadow: 0px 1px 3px 1px rgba(0, 0, 0, 0.15);\n",
              "      filter: drop-shadow(0px 1px 2px rgba(0, 0, 0, 0.3));\n",
              "      fill: #FFFFFF;\n",
              "    }\n",
              "  </style>\n",
              "\n",
              "    <script>\n",
              "      const buttonEl =\n",
              "        document.querySelector('#df-b90d0ff2-7cad-455d-8871-a399202c5f7c button.colab-df-convert');\n",
              "      buttonEl.style.display =\n",
              "        google.colab.kernel.accessAllowed ? 'block' : 'none';\n",
              "\n",
              "      async function convertToInteractive(key) {\n",
              "        const element = document.querySelector('#df-b90d0ff2-7cad-455d-8871-a399202c5f7c');\n",
              "        const dataTable =\n",
              "          await google.colab.kernel.invokeFunction('convertToInteractive',\n",
              "                                                    [key], {});\n",
              "        if (!dataTable) return;\n",
              "\n",
              "        const docLinkHtml = 'Like what you see? Visit the ' +\n",
              "          '<a target=\"_blank\" href=https://colab.research.google.com/notebooks/data_table.ipynb>data table notebook</a>'\n",
              "          + ' to learn more about interactive tables.';\n",
              "        element.innerHTML = '';\n",
              "        dataTable['output_type'] = 'display_data';\n",
              "        await google.colab.output.renderOutput(dataTable, element);\n",
              "        const docLink = document.createElement('div');\n",
              "        docLink.innerHTML = docLinkHtml;\n",
              "        element.appendChild(docLink);\n",
              "      }\n",
              "    </script>\n",
              "  </div>\n",
              "\n",
              "\n",
              "<div id=\"df-1fc8282d-1db7-4bc0-8dea-f902096fd0d2\">\n",
              "  <button class=\"colab-df-quickchart\" onclick=\"quickchart('df-1fc8282d-1db7-4bc0-8dea-f902096fd0d2')\"\n",
              "            title=\"Suggest charts\"\n",
              "            style=\"display:none;\">\n",
              "\n",
              "<svg xmlns=\"http://www.w3.org/2000/svg\" height=\"24px\"viewBox=\"0 0 24 24\"\n",
              "     width=\"24px\">\n",
              "    <g>\n",
              "        <path d=\"M19 3H5c-1.1 0-2 .9-2 2v14c0 1.1.9 2 2 2h14c1.1 0 2-.9 2-2V5c0-1.1-.9-2-2-2zM9 17H7v-7h2v7zm4 0h-2V7h2v10zm4 0h-2v-4h2v4z\"/>\n",
              "    </g>\n",
              "</svg>\n",
              "  </button>\n",
              "\n",
              "<style>\n",
              "  .colab-df-quickchart {\n",
              "      --bg-color: #E8F0FE;\n",
              "      --fill-color: #1967D2;\n",
              "      --hover-bg-color: #E2EBFA;\n",
              "      --hover-fill-color: #174EA6;\n",
              "      --disabled-fill-color: #AAA;\n",
              "      --disabled-bg-color: #DDD;\n",
              "  }\n",
              "\n",
              "  [theme=dark] .colab-df-quickchart {\n",
              "      --bg-color: #3B4455;\n",
              "      --fill-color: #D2E3FC;\n",
              "      --hover-bg-color: #434B5C;\n",
              "      --hover-fill-color: #FFFFFF;\n",
              "      --disabled-bg-color: #3B4455;\n",
              "      --disabled-fill-color: #666;\n",
              "  }\n",
              "\n",
              "  .colab-df-quickchart {\n",
              "    background-color: var(--bg-color);\n",
              "    border: none;\n",
              "    border-radius: 50%;\n",
              "    cursor: pointer;\n",
              "    display: none;\n",
              "    fill: var(--fill-color);\n",
              "    height: 32px;\n",
              "    padding: 0;\n",
              "    width: 32px;\n",
              "  }\n",
              "\n",
              "  .colab-df-quickchart:hover {\n",
              "    background-color: var(--hover-bg-color);\n",
              "    box-shadow: 0 1px 2px rgba(60, 64, 67, 0.3), 0 1px 3px 1px rgba(60, 64, 67, 0.15);\n",
              "    fill: var(--button-hover-fill-color);\n",
              "  }\n",
              "\n",
              "  .colab-df-quickchart-complete:disabled,\n",
              "  .colab-df-quickchart-complete:disabled:hover {\n",
              "    background-color: var(--disabled-bg-color);\n",
              "    fill: var(--disabled-fill-color);\n",
              "    box-shadow: none;\n",
              "  }\n",
              "\n",
              "  .colab-df-spinner {\n",
              "    border: 2px solid var(--fill-color);\n",
              "    border-color: transparent;\n",
              "    border-bottom-color: var(--fill-color);\n",
              "    animation:\n",
              "      spin 1s steps(1) infinite;\n",
              "  }\n",
              "\n",
              "  @keyframes spin {\n",
              "    0% {\n",
              "      border-color: transparent;\n",
              "      border-bottom-color: var(--fill-color);\n",
              "      border-left-color: var(--fill-color);\n",
              "    }\n",
              "    20% {\n",
              "      border-color: transparent;\n",
              "      border-left-color: var(--fill-color);\n",
              "      border-top-color: var(--fill-color);\n",
              "    }\n",
              "    30% {\n",
              "      border-color: transparent;\n",
              "      border-left-color: var(--fill-color);\n",
              "      border-top-color: var(--fill-color);\n",
              "      border-right-color: var(--fill-color);\n",
              "    }\n",
              "    40% {\n",
              "      border-color: transparent;\n",
              "      border-right-color: var(--fill-color);\n",
              "      border-top-color: var(--fill-color);\n",
              "    }\n",
              "    60% {\n",
              "      border-color: transparent;\n",
              "      border-right-color: var(--fill-color);\n",
              "    }\n",
              "    80% {\n",
              "      border-color: transparent;\n",
              "      border-right-color: var(--fill-color);\n",
              "      border-bottom-color: var(--fill-color);\n",
              "    }\n",
              "    90% {\n",
              "      border-color: transparent;\n",
              "      border-bottom-color: var(--fill-color);\n",
              "    }\n",
              "  }\n",
              "</style>\n",
              "\n",
              "  <script>\n",
              "    async function quickchart(key) {\n",
              "      const quickchartButtonEl =\n",
              "        document.querySelector('#' + key + ' button');\n",
              "      quickchartButtonEl.disabled = true;  // To prevent multiple clicks.\n",
              "      quickchartButtonEl.classList.add('colab-df-spinner');\n",
              "      try {\n",
              "        const charts = await google.colab.kernel.invokeFunction(\n",
              "            'suggestCharts', [key], {});\n",
              "      } catch (error) {\n",
              "        console.error('Error during call to suggestCharts:', error);\n",
              "      }\n",
              "      quickchartButtonEl.classList.remove('colab-df-spinner');\n",
              "      quickchartButtonEl.classList.add('colab-df-quickchart-complete');\n",
              "    }\n",
              "    (() => {\n",
              "      let quickchartButtonEl =\n",
              "        document.querySelector('#df-1fc8282d-1db7-4bc0-8dea-f902096fd0d2 button');\n",
              "      quickchartButtonEl.style.display =\n",
              "        google.colab.kernel.accessAllowed ? 'block' : 'none';\n",
              "    })();\n",
              "  </script>\n",
              "</div>\n",
              "\n",
              "    </div>\n",
              "  </div>\n"
            ]
          },
          "metadata": {},
          "execution_count": 14
        }
      ]
    },
    {
      "cell_type": "markdown",
      "source": [
        "# **EDA**"
      ],
      "metadata": {
        "id": "bzJ981tp9P6G"
      }
    },
    {
      "cell_type": "markdown",
      "source": [
        "## Column Details :-\n",
        "\n",
        "**Price:** The price range of the cars, with specific price labels and counts.\n",
        "\n",
        "**Company Name:** The name of the car manufacturing company, with percentages of each company's representation.\n",
        "\n",
        "**Model Name:** The model name of the cars, with percentages of each model's representation.\n",
        "\n",
        "**Model Year:** The range of car manufacturing years, with counts and percentages.\n",
        "\n",
        "**Location:** The location of the cars, specifying the regions where they are available for purchase, along with their percentages.\n",
        "\n",
        "**Mileage:** Information on the mileage of the cars, with mileage ranges, counts, and percentages.\n",
        "\n",
        "**Engine Type:** Descriptions of the engine types, with percentages for each type.\n",
        "\n",
        "**Engine Capacity:** Engine capacity ranges with counts and percentages.\n",
        "\n",
        "**Color:** The color distribution of the cars, with percentages for each color."
      ],
      "metadata": {
        "id": "SmWFJvQY9chn"
      }
    },
    {
      "cell_type": "code",
      "source": [
        "df.head(3)"
      ],
      "metadata": {
        "id": "cVHgZ6SqRGE1",
        "colab": {
          "base_uri": "https://localhost:8080/",
          "height": 161
        },
        "outputId": "74404ef4-b0ff-4f4a-d4bc-3bb7c0092822"
      },
      "execution_count": 15,
      "outputs": [
        {
          "output_type": "execute_result",
          "data": {
            "text/plain": [
              "  Company Name Model Name    Price  Model Year   Location  Mileage  \\\n",
              "0       Toyota       Vitz  2385000        2017  Islamabad     9869   \n",
              "1       Toyota    Corolla   111000        2019        KPK    11111   \n",
              "2       Suzuki       Alto  1530000        2019        KPK    17500   \n",
              "\n",
              "  Engine Type  Engine Capacity   Color  Assembly  Body Type Transmission Type  \\\n",
              "0      Petrol             1000  Silver  Imported  Hatchback         Automatic   \n",
              "1      Petrol             1300   White     Local      Sedan         Automatic   \n",
              "2      Petrol              660   White     Local  Hatchback         Automatic   \n",
              "\n",
              "  Registration Status  \n",
              "0       Un-Registered  \n",
              "1          Registered  \n",
              "2       Un-Registered  "
            ],
            "text/html": [
              "\n",
              "  <div id=\"df-b9131a79-786b-4727-9a48-1e55e20642aa\" class=\"colab-df-container\">\n",
              "    <div>\n",
              "<style scoped>\n",
              "    .dataframe tbody tr th:only-of-type {\n",
              "        vertical-align: middle;\n",
              "    }\n",
              "\n",
              "    .dataframe tbody tr th {\n",
              "        vertical-align: top;\n",
              "    }\n",
              "\n",
              "    .dataframe thead th {\n",
              "        text-align: right;\n",
              "    }\n",
              "</style>\n",
              "<table border=\"1\" class=\"dataframe\">\n",
              "  <thead>\n",
              "    <tr style=\"text-align: right;\">\n",
              "      <th></th>\n",
              "      <th>Company Name</th>\n",
              "      <th>Model Name</th>\n",
              "      <th>Price</th>\n",
              "      <th>Model Year</th>\n",
              "      <th>Location</th>\n",
              "      <th>Mileage</th>\n",
              "      <th>Engine Type</th>\n",
              "      <th>Engine Capacity</th>\n",
              "      <th>Color</th>\n",
              "      <th>Assembly</th>\n",
              "      <th>Body Type</th>\n",
              "      <th>Transmission Type</th>\n",
              "      <th>Registration Status</th>\n",
              "    </tr>\n",
              "  </thead>\n",
              "  <tbody>\n",
              "    <tr>\n",
              "      <th>0</th>\n",
              "      <td>Toyota</td>\n",
              "      <td>Vitz</td>\n",
              "      <td>2385000</td>\n",
              "      <td>2017</td>\n",
              "      <td>Islamabad</td>\n",
              "      <td>9869</td>\n",
              "      <td>Petrol</td>\n",
              "      <td>1000</td>\n",
              "      <td>Silver</td>\n",
              "      <td>Imported</td>\n",
              "      <td>Hatchback</td>\n",
              "      <td>Automatic</td>\n",
              "      <td>Un-Registered</td>\n",
              "    </tr>\n",
              "    <tr>\n",
              "      <th>1</th>\n",
              "      <td>Toyota</td>\n",
              "      <td>Corolla</td>\n",
              "      <td>111000</td>\n",
              "      <td>2019</td>\n",
              "      <td>KPK</td>\n",
              "      <td>11111</td>\n",
              "      <td>Petrol</td>\n",
              "      <td>1300</td>\n",
              "      <td>White</td>\n",
              "      <td>Local</td>\n",
              "      <td>Sedan</td>\n",
              "      <td>Automatic</td>\n",
              "      <td>Registered</td>\n",
              "    </tr>\n",
              "    <tr>\n",
              "      <th>2</th>\n",
              "      <td>Suzuki</td>\n",
              "      <td>Alto</td>\n",
              "      <td>1530000</td>\n",
              "      <td>2019</td>\n",
              "      <td>KPK</td>\n",
              "      <td>17500</td>\n",
              "      <td>Petrol</td>\n",
              "      <td>660</td>\n",
              "      <td>White</td>\n",
              "      <td>Local</td>\n",
              "      <td>Hatchback</td>\n",
              "      <td>Automatic</td>\n",
              "      <td>Un-Registered</td>\n",
              "    </tr>\n",
              "  </tbody>\n",
              "</table>\n",
              "</div>\n",
              "    <div class=\"colab-df-buttons\">\n",
              "\n",
              "  <div class=\"colab-df-container\">\n",
              "    <button class=\"colab-df-convert\" onclick=\"convertToInteractive('df-b9131a79-786b-4727-9a48-1e55e20642aa')\"\n",
              "            title=\"Convert this dataframe to an interactive table.\"\n",
              "            style=\"display:none;\">\n",
              "\n",
              "  <svg xmlns=\"http://www.w3.org/2000/svg\" height=\"24px\" viewBox=\"0 -960 960 960\">\n",
              "    <path d=\"M120-120v-720h720v720H120Zm60-500h600v-160H180v160Zm220 220h160v-160H400v160Zm0 220h160v-160H400v160ZM180-400h160v-160H180v160Zm440 0h160v-160H620v160ZM180-180h160v-160H180v160Zm440 0h160v-160H620v160Z\"/>\n",
              "  </svg>\n",
              "    </button>\n",
              "\n",
              "  <style>\n",
              "    .colab-df-container {\n",
              "      display:flex;\n",
              "      gap: 12px;\n",
              "    }\n",
              "\n",
              "    .colab-df-convert {\n",
              "      background-color: #E8F0FE;\n",
              "      border: none;\n",
              "      border-radius: 50%;\n",
              "      cursor: pointer;\n",
              "      display: none;\n",
              "      fill: #1967D2;\n",
              "      height: 32px;\n",
              "      padding: 0 0 0 0;\n",
              "      width: 32px;\n",
              "    }\n",
              "\n",
              "    .colab-df-convert:hover {\n",
              "      background-color: #E2EBFA;\n",
              "      box-shadow: 0px 1px 2px rgba(60, 64, 67, 0.3), 0px 1px 3px 1px rgba(60, 64, 67, 0.15);\n",
              "      fill: #174EA6;\n",
              "    }\n",
              "\n",
              "    .colab-df-buttons div {\n",
              "      margin-bottom: 4px;\n",
              "    }\n",
              "\n",
              "    [theme=dark] .colab-df-convert {\n",
              "      background-color: #3B4455;\n",
              "      fill: #D2E3FC;\n",
              "    }\n",
              "\n",
              "    [theme=dark] .colab-df-convert:hover {\n",
              "      background-color: #434B5C;\n",
              "      box-shadow: 0px 1px 3px 1px rgba(0, 0, 0, 0.15);\n",
              "      filter: drop-shadow(0px 1px 2px rgba(0, 0, 0, 0.3));\n",
              "      fill: #FFFFFF;\n",
              "    }\n",
              "  </style>\n",
              "\n",
              "    <script>\n",
              "      const buttonEl =\n",
              "        document.querySelector('#df-b9131a79-786b-4727-9a48-1e55e20642aa button.colab-df-convert');\n",
              "      buttonEl.style.display =\n",
              "        google.colab.kernel.accessAllowed ? 'block' : 'none';\n",
              "\n",
              "      async function convertToInteractive(key) {\n",
              "        const element = document.querySelector('#df-b9131a79-786b-4727-9a48-1e55e20642aa');\n",
              "        const dataTable =\n",
              "          await google.colab.kernel.invokeFunction('convertToInteractive',\n",
              "                                                    [key], {});\n",
              "        if (!dataTable) return;\n",
              "\n",
              "        const docLinkHtml = 'Like what you see? Visit the ' +\n",
              "          '<a target=\"_blank\" href=https://colab.research.google.com/notebooks/data_table.ipynb>data table notebook</a>'\n",
              "          + ' to learn more about interactive tables.';\n",
              "        element.innerHTML = '';\n",
              "        dataTable['output_type'] = 'display_data';\n",
              "        await google.colab.output.renderOutput(dataTable, element);\n",
              "        const docLink = document.createElement('div');\n",
              "        docLink.innerHTML = docLinkHtml;\n",
              "        element.appendChild(docLink);\n",
              "      }\n",
              "    </script>\n",
              "  </div>\n",
              "\n",
              "\n",
              "<div id=\"df-0267b454-83ee-4da3-8b63-0371ed4e3c67\">\n",
              "  <button class=\"colab-df-quickchart\" onclick=\"quickchart('df-0267b454-83ee-4da3-8b63-0371ed4e3c67')\"\n",
              "            title=\"Suggest charts\"\n",
              "            style=\"display:none;\">\n",
              "\n",
              "<svg xmlns=\"http://www.w3.org/2000/svg\" height=\"24px\"viewBox=\"0 0 24 24\"\n",
              "     width=\"24px\">\n",
              "    <g>\n",
              "        <path d=\"M19 3H5c-1.1 0-2 .9-2 2v14c0 1.1.9 2 2 2h14c1.1 0 2-.9 2-2V5c0-1.1-.9-2-2-2zM9 17H7v-7h2v7zm4 0h-2V7h2v10zm4 0h-2v-4h2v4z\"/>\n",
              "    </g>\n",
              "</svg>\n",
              "  </button>\n",
              "\n",
              "<style>\n",
              "  .colab-df-quickchart {\n",
              "      --bg-color: #E8F0FE;\n",
              "      --fill-color: #1967D2;\n",
              "      --hover-bg-color: #E2EBFA;\n",
              "      --hover-fill-color: #174EA6;\n",
              "      --disabled-fill-color: #AAA;\n",
              "      --disabled-bg-color: #DDD;\n",
              "  }\n",
              "\n",
              "  [theme=dark] .colab-df-quickchart {\n",
              "      --bg-color: #3B4455;\n",
              "      --fill-color: #D2E3FC;\n",
              "      --hover-bg-color: #434B5C;\n",
              "      --hover-fill-color: #FFFFFF;\n",
              "      --disabled-bg-color: #3B4455;\n",
              "      --disabled-fill-color: #666;\n",
              "  }\n",
              "\n",
              "  .colab-df-quickchart {\n",
              "    background-color: var(--bg-color);\n",
              "    border: none;\n",
              "    border-radius: 50%;\n",
              "    cursor: pointer;\n",
              "    display: none;\n",
              "    fill: var(--fill-color);\n",
              "    height: 32px;\n",
              "    padding: 0;\n",
              "    width: 32px;\n",
              "  }\n",
              "\n",
              "  .colab-df-quickchart:hover {\n",
              "    background-color: var(--hover-bg-color);\n",
              "    box-shadow: 0 1px 2px rgba(60, 64, 67, 0.3), 0 1px 3px 1px rgba(60, 64, 67, 0.15);\n",
              "    fill: var(--button-hover-fill-color);\n",
              "  }\n",
              "\n",
              "  .colab-df-quickchart-complete:disabled,\n",
              "  .colab-df-quickchart-complete:disabled:hover {\n",
              "    background-color: var(--disabled-bg-color);\n",
              "    fill: var(--disabled-fill-color);\n",
              "    box-shadow: none;\n",
              "  }\n",
              "\n",
              "  .colab-df-spinner {\n",
              "    border: 2px solid var(--fill-color);\n",
              "    border-color: transparent;\n",
              "    border-bottom-color: var(--fill-color);\n",
              "    animation:\n",
              "      spin 1s steps(1) infinite;\n",
              "  }\n",
              "\n",
              "  @keyframes spin {\n",
              "    0% {\n",
              "      border-color: transparent;\n",
              "      border-bottom-color: var(--fill-color);\n",
              "      border-left-color: var(--fill-color);\n",
              "    }\n",
              "    20% {\n",
              "      border-color: transparent;\n",
              "      border-left-color: var(--fill-color);\n",
              "      border-top-color: var(--fill-color);\n",
              "    }\n",
              "    30% {\n",
              "      border-color: transparent;\n",
              "      border-left-color: var(--fill-color);\n",
              "      border-top-color: var(--fill-color);\n",
              "      border-right-color: var(--fill-color);\n",
              "    }\n",
              "    40% {\n",
              "      border-color: transparent;\n",
              "      border-right-color: var(--fill-color);\n",
              "      border-top-color: var(--fill-color);\n",
              "    }\n",
              "    60% {\n",
              "      border-color: transparent;\n",
              "      border-right-color: var(--fill-color);\n",
              "    }\n",
              "    80% {\n",
              "      border-color: transparent;\n",
              "      border-right-color: var(--fill-color);\n",
              "      border-bottom-color: var(--fill-color);\n",
              "    }\n",
              "    90% {\n",
              "      border-color: transparent;\n",
              "      border-bottom-color: var(--fill-color);\n",
              "    }\n",
              "  }\n",
              "</style>\n",
              "\n",
              "  <script>\n",
              "    async function quickchart(key) {\n",
              "      const quickchartButtonEl =\n",
              "        document.querySelector('#' + key + ' button');\n",
              "      quickchartButtonEl.disabled = true;  // To prevent multiple clicks.\n",
              "      quickchartButtonEl.classList.add('colab-df-spinner');\n",
              "      try {\n",
              "        const charts = await google.colab.kernel.invokeFunction(\n",
              "            'suggestCharts', [key], {});\n",
              "      } catch (error) {\n",
              "        console.error('Error during call to suggestCharts:', error);\n",
              "      }\n",
              "      quickchartButtonEl.classList.remove('colab-df-spinner');\n",
              "      quickchartButtonEl.classList.add('colab-df-quickchart-complete');\n",
              "    }\n",
              "    (() => {\n",
              "      let quickchartButtonEl =\n",
              "        document.querySelector('#df-0267b454-83ee-4da3-8b63-0371ed4e3c67 button');\n",
              "      quickchartButtonEl.style.display =\n",
              "        google.colab.kernel.accessAllowed ? 'block' : 'none';\n",
              "    })();\n",
              "  </script>\n",
              "</div>\n",
              "\n",
              "    </div>\n",
              "  </div>\n"
            ]
          },
          "metadata": {},
          "execution_count": 15
        }
      ]
    },
    {
      "cell_type": "markdown",
      "source": [
        "### **Company Name :-**\n",
        "\n",
        "1.) Approximately 90% of the Data is of Toyota, Suzuki, Honda and Daihatsu Companies\n",
        "\n",
        "2.) The cars whose quantity is less then 100 should be removed from the dataset"
      ],
      "metadata": {
        "id": "TKzZu5IQQ9KM"
      }
    },
    {
      "cell_type": "code",
      "source": [
        "# Number of Unique companies\n",
        "\n",
        "print(df[\"Company Name\"].unique())\n",
        "\n",
        "print(\"\\n\\nNumber of Unique companies :- \", len(df[\"Company Name\"].unique()))"
      ],
      "metadata": {
        "id": "4_jql1wH75ch",
        "colab": {
          "base_uri": "https://localhost:8080/"
        },
        "outputId": "674bcbad-c667-41b1-9974-0f7a651e66fe"
      },
      "execution_count": 16,
      "outputs": [
        {
          "output_type": "stream",
          "name": "stdout",
          "text": [
            "['Toyota' 'Suzuki' 'Honda' 'Mitsubishi' 'Nissan' 'Daihatsu' 'Audi'\n",
            " 'Chevrolet' 'Mercedes' 'Hyundai' 'Daewoo' 'BMW' 'FAW' 'Range' 'DFSK'\n",
            " 'KIA' 'Lexus' 'United' 'SsangYong' 'Mazda' 'Subaru' 'Porsche' 'Chery'\n",
            " 'Fiat' 'Land' 'MINI' 'Hummer' 'Jeep' 'Jaguar' 'Adam' 'Volvo']\n",
            "\n",
            "\n",
            "Number of Unique companies :-  31\n"
          ]
        }
      ]
    },
    {
      "cell_type": "code",
      "source": [
        "companiesFilter = df[\"Company Name\"].value_counts()[(df[\"Company Name\"].value_counts() > 100).values]"
      ],
      "metadata": {
        "id": "D1-t3u4xcZ-k"
      },
      "execution_count": 17,
      "outputs": []
    },
    {
      "cell_type": "code",
      "source": [
        "companiesFilter.index"
      ],
      "metadata": {
        "id": "XkigbbqUgVvN",
        "colab": {
          "base_uri": "https://localhost:8080/"
        },
        "outputId": "69133f29-1620-4983-b00b-f2a5644af58c"
      },
      "execution_count": 18,
      "outputs": [
        {
          "output_type": "execute_result",
          "data": {
            "text/plain": [
              "Index(['Suzuki', 'Toyota', 'Honda', 'Daihatsu', 'Nissan', 'Mitsubishi',\n",
              "       'Mercedes', 'Hyundai', 'Audi', 'FAW', 'BMW', 'Mazda'],\n",
              "      dtype='object')"
            ]
          },
          "metadata": {},
          "execution_count": 18
        }
      ]
    },
    {
      "cell_type": "code",
      "source": [
        "# Filter the companies which are greater then 100\n",
        "\n",
        "df = df[df[\"Company Name\"].isin(companiesFilter.index)]"
      ],
      "metadata": {
        "id": "K_HLiXUigNWe"
      },
      "execution_count": 19,
      "outputs": []
    },
    {
      "cell_type": "code",
      "source": [
        "df.shape"
      ],
      "metadata": {
        "id": "SIC0rWI7caF2",
        "colab": {
          "base_uri": "https://localhost:8080/"
        },
        "outputId": "1cb2dfce-d145-412a-8c80-3b66f2b0b2a1"
      },
      "execution_count": 20,
      "outputs": [
        {
          "output_type": "execute_result",
          "data": {
            "text/plain": [
              "(44740, 13)"
            ]
          },
          "metadata": {},
          "execution_count": 20
        }
      ]
    },
    {
      "cell_type": "code",
      "source": [
        "df[\"Company Name\"].value_counts()"
      ],
      "metadata": {
        "id": "umlXNIDte6di",
        "colab": {
          "base_uri": "https://localhost:8080/"
        },
        "outputId": "59d8bb70-7bc7-4872-c665-9ee9d5e50721"
      },
      "execution_count": 21,
      "outputs": [
        {
          "output_type": "execute_result",
          "data": {
            "text/plain": [
              "Suzuki        15555\n",
              "Toyota        15352\n",
              "Honda          9091\n",
              "Daihatsu       2242\n",
              "Nissan          569\n",
              "Mitsubishi      492\n",
              "Mercedes        435\n",
              "Hyundai         356\n",
              "Audi            206\n",
              "FAW             187\n",
              "BMW             137\n",
              "Mazda           118\n",
              "Name: Company Name, dtype: int64"
            ]
          },
          "metadata": {},
          "execution_count": 21
        }
      ]
    },
    {
      "cell_type": "code",
      "source": [
        "numOfCompanies = df[\"Company Name\"].value_counts()"
      ],
      "metadata": {
        "id": "G1naz_wlSLd3"
      },
      "execution_count": 22,
      "outputs": []
    },
    {
      "cell_type": "code",
      "source": [
        "numOfCompanies.index"
      ],
      "metadata": {
        "id": "ex44bx5GSTLQ",
        "colab": {
          "base_uri": "https://localhost:8080/"
        },
        "outputId": "6ea8a9ae-5b7e-4766-f250-c3b163560c30"
      },
      "execution_count": 23,
      "outputs": [
        {
          "output_type": "execute_result",
          "data": {
            "text/plain": [
              "Index(['Suzuki', 'Toyota', 'Honda', 'Daihatsu', 'Nissan', 'Mitsubishi',\n",
              "       'Mercedes', 'Hyundai', 'Audi', 'FAW', 'BMW', 'Mazda'],\n",
              "      dtype='object')"
            ]
          },
          "metadata": {},
          "execution_count": 23
        }
      ]
    },
    {
      "cell_type": "code",
      "source": [
        "numOfCompanies.values"
      ],
      "metadata": {
        "id": "3-HfV1xpSTOp",
        "colab": {
          "base_uri": "https://localhost:8080/"
        },
        "outputId": "7307b684-657e-43d2-bf19-1cb85f027c69"
      },
      "execution_count": 24,
      "outputs": [
        {
          "output_type": "execute_result",
          "data": {
            "text/plain": [
              "array([15555, 15352,  9091,  2242,   569,   492,   435,   356,   206,\n",
              "         187,   137,   118])"
            ]
          },
          "metadata": {},
          "execution_count": 24
        }
      ]
    },
    {
      "cell_type": "code",
      "source": [
        "plt.bar(numOfCompanies.index, numOfCompanies.values)\n",
        "plt.xticks(rotation = 30)\n",
        "plt.title(\"Top 15 companies with larger number of cars\")\n",
        "plt.xlabel(\"Company Name\")\n",
        "plt.ylabel(\"Number of Cars Made\")\n",
        "plt.show()"
      ],
      "metadata": {
        "id": "uE_GmpTrRY8W",
        "colab": {
          "base_uri": "https://localhost:8080/",
          "height": 505
        },
        "outputId": "82b28745-dec9-4fb7-c863-bcc6e072615b"
      },
      "execution_count": 25,
      "outputs": [
        {
          "output_type": "display_data",
          "data": {
            "text/plain": [
              "<Figure size 640x480 with 1 Axes>"
            ],
            "image/png": "[encoded data removed]"
          },
          "metadata": {}
        }
      ]
    },
    {
      "cell_type": "code",
      "source": [
        "plt.pie(numOfCompanies.values, labels=numOfCompanies.index, autopct = \"%0.1f%%\")\n",
        "plt.show()"
      ],
      "metadata": {
        "id": "GAWESTQASAhd",
        "colab": {
          "base_uri": "https://localhost:8080/",
          "height": 406
        },
        "outputId": "bec1e21f-e864-4a23-9550-86ace6c220e0"
      },
      "execution_count": 26,
      "outputs": [
        {
          "output_type": "display_data",
          "data": {
            "text/plain": [
              "<Figure size 640x480 with 1 Axes>"
            ],
            "image/png": "[encoded data removed]"
          },
          "metadata": {}
        }
      ]
    },
    {
      "cell_type": "markdown",
      "source": [
        "## Model Name: -\n",
        "\n",
        "1.) The Data is somewhat evenly distributed"
      ],
      "metadata": {
        "id": "2VKw3tlGx66a"
      }
    },
    {
      "cell_type": "code",
      "source": [
        "# Number of Model Name\n",
        "\n",
        "print(df[\"Model Name\"].value_counts() )\n",
        "\n",
        "print(\"\\n\\nNumber of Unique companies :- \", len(df[\"Model Name\"].value_counts()))"
      ],
      "metadata": {
        "id": "FiFlW5fwToak",
        "colab": {
          "base_uri": "https://localhost:8080/"
        },
        "outputId": "7879b02e-cd91-4709-c87d-603b16708afb"
      },
      "execution_count": 27,
      "outputs": [
        {
          "output_type": "stream",
          "name": "stdout",
          "text": [
            "Corolla    8058\n",
            "Mehran     4634\n",
            "Civic      4130\n",
            "Cultus     3537\n",
            "City       3059\n",
            "           ... \n",
            "Wake          1\n",
            "FX            1\n",
            "Auris         1\n",
            "Blue          1\n",
            "Ractis        1\n",
            "Name: Model Name, Length: 161, dtype: int64\n",
            "\n",
            "\n",
            "Number of Unique companies :-  161\n"
          ]
        }
      ]
    },
    {
      "cell_type": "code",
      "source": [
        "modelFilter = df[\"Model Name\"].value_counts()[(df[\"Model Name\"].value_counts() > 100).values]"
      ],
      "metadata": {
        "id": "KvEQeXWihtxS"
      },
      "execution_count": 28,
      "outputs": []
    },
    {
      "cell_type": "code",
      "source": [
        "modelFilter.index"
      ],
      "metadata": {
        "id": "KbfD9tzthtvO",
        "colab": {
          "base_uri": "https://localhost:8080/"
        },
        "outputId": "8448d653-5407-40cc-b4f5-756e08ced7d5"
      },
      "execution_count": 29,
      "outputs": [
        {
          "output_type": "execute_result",
          "data": {
            "text/plain": [
              "Index(['Corolla', 'Mehran', 'Civic', 'Cultus', 'City', 'Alto', 'Vitz', 'Wagon',\n",
              "       'Aqua', 'Vezel', 'Bolan', 'Swift', 'Mira', 'Prius', 'Prado', 'Passo',\n",
              "       'Cuore', 'Land', 'Benz', 'Khyber', 'Santro', 'Move', 'N', 'Baleno',\n",
              "       'Liana', 'Fortuner', 'Premio', 'Hijet', 'Margalla', 'Fit', 'Accord',\n",
              "       'Surf', 'Pajero', 'Belta', 'X-PV', 'Ek', 'Lancer', 'Dayz', 'Mark'],\n",
              "      dtype='object')"
            ]
          },
          "metadata": {},
          "execution_count": 29
        }
      ]
    },
    {
      "cell_type": "code",
      "source": [
        "# Filter the companies whose model name count is greater then 100\n",
        "\n",
        "df = df[df[\"Model Name\"].isin(modelFilter.index)]"
      ],
      "metadata": {
        "id": "FHmRX-D1htsw"
      },
      "execution_count": 30,
      "outputs": []
    },
    {
      "cell_type": "code",
      "source": [
        "df.shape"
      ],
      "metadata": {
        "id": "Ymg0uaBahtqa",
        "colab": {
          "base_uri": "https://localhost:8080/"
        },
        "outputId": "6c597aa0-c910-4a81-cfcb-ffb660075124"
      },
      "execution_count": 31,
      "outputs": [
        {
          "output_type": "execute_result",
          "data": {
            "text/plain": [
              "(42162, 13)"
            ]
          },
          "metadata": {},
          "execution_count": 31
        }
      ]
    },
    {
      "cell_type": "code",
      "source": [
        "df[\"Model Name\"].value_counts()"
      ],
      "metadata": {
        "id": "TWPgGz95htni",
        "colab": {
          "base_uri": "https://localhost:8080/"
        },
        "outputId": "c15125b1-b953-455f-ccaf-e7b1dd8e6510"
      },
      "execution_count": 32,
      "outputs": [
        {
          "output_type": "execute_result",
          "data": {
            "text/plain": [
              "Corolla     8058\n",
              "Mehran      4634\n",
              "Civic       4130\n",
              "Cultus      3537\n",
              "City        3059\n",
              "Alto        2502\n",
              "Vitz        1803\n",
              "Wagon       1718\n",
              "Aqua        1103\n",
              "Vezel       1016\n",
              "Bolan        931\n",
              "Swift        879\n",
              "Mira         820\n",
              "Prius        797\n",
              "Prado        796\n",
              "Passo        772\n",
              "Cuore        706\n",
              "Land         487\n",
              "Benz         435\n",
              "Khyber       344\n",
              "Santro       343\n",
              "Move         300\n",
              "N            297\n",
              "Baleno       270\n",
              "Liana        226\n",
              "Fortuner     218\n",
              "Premio       211\n",
              "Hijet        194\n",
              "Margalla     192\n",
              "Fit          189\n",
              "Accord       174\n",
              "Surf         163\n",
              "Pajero       138\n",
              "Belta        128\n",
              "X-PV         127\n",
              "Ek           125\n",
              "Lancer       124\n",
              "Dayz         110\n",
              "Mark         106\n",
              "Name: Model Name, dtype: int64"
            ]
          },
          "metadata": {},
          "execution_count": 32
        }
      ]
    },
    {
      "cell_type": "code",
      "source": [],
      "metadata": {
        "id": "fnTPyMfvhtiZ"
      },
      "execution_count": 32,
      "outputs": []
    },
    {
      "cell_type": "code",
      "source": [
        "plt.bar(df[\"Model Name\"].value_counts().index[:15], df[\"Model Name\"].value_counts().values[:15])\n",
        "plt.xticks(rotation = 30)\n",
        "plt.title(\"Top 15 Model Name\")\n",
        "plt.xlabel(\"Model Name\")\n",
        "plt.ylabel(\"Number of Cars Made\")\n",
        "plt.show()"
      ],
      "metadata": {
        "id": "FbjvBrqByG41",
        "colab": {
          "base_uri": "https://localhost:8080/",
          "height": 496
        },
        "outputId": "e9270a7e-e6ec-493d-a4de-9ffdef8519e5"
      },
      "execution_count": 33,
      "outputs": [
        {
          "output_type": "display_data",
          "data": {
            "text/plain": [
              "<Figure size 640x480 with 1 Axes>"
            ],
            "image/png": "[encoded data removed]"
          },
          "metadata": {}
        }
      ]
    },
    {
      "cell_type": "code",
      "source": [
        "plt.pie(df[\"Model Name\"].value_counts().values, labels=df[\"Model Name\"].value_counts().index, autopct = \"%0.1f%%\")\n",
        "plt.show()"
      ],
      "metadata": {
        "id": "DC-k94rKyYTn",
        "colab": {
          "base_uri": "https://localhost:8080/",
          "height": 406
        },
        "outputId": "f87f3d83-50ea-4ddb-f509-990b80c3e6dc"
      },
      "execution_count": 34,
      "outputs": [
        {
          "output_type": "display_data",
          "data": {
            "text/plain": [
              "<Figure size 640x480 with 1 Axes>"
            ],
            "image/png": "[encoded data removed]"
          },
          "metadata": {}
        }
      ]
    },
    {
      "cell_type": "markdown",
      "source": [
        "## Price: -\n",
        "\n",
        "1.) The price is strongly correlated with Engine Capacity.\n",
        "\n",
        "2.) The price is also correlated with the Model Year of the car.\n",
        "\n",
        "3.) Most of it's values lies in the centre, it is kindof normally distributed."
      ],
      "metadata": {
        "id": "DzJrNO5i09z_"
      }
    },
    {
      "cell_type": "code",
      "source": [
        "df.corr()"
      ],
      "metadata": {
        "id": "S3yumFYu0AcV",
        "colab": {
          "base_uri": "https://localhost:8080/",
          "height": 229
        },
        "outputId": "479c421a-63f1-41d4-eb34-d3a80aa46290"
      },
      "execution_count": 35,
      "outputs": [
        {
          "output_type": "stream",
          "name": "stderr",
          "text": [
            "<ipython-input-35-2f6f6606aa2c>:1: FutureWarning: The default value of numeric_only in DataFrame.corr is deprecated. In a future version, it will default to False. Select only valid columns or specify the value of numeric_only to silence this warning.\n",
            "  df.corr()\n"
          ]
        },
        {
          "output_type": "execute_result",
          "data": {
            "text/plain": [
              "                    Price  Model Year   Mileage  Engine Capacity\n",
              "Price            1.000000    0.219344 -0.185998         0.668597\n",
              "Model Year       0.219344    1.000000 -0.601255        -0.140032\n",
              "Mileage         -0.185998   -0.601255  1.000000         0.091693\n",
              "Engine Capacity  0.668597   -0.140032  0.091693         1.000000"
            ],
            "text/html": [
              "\n",
              "  <div id=\"df-2f3b20db-e98e-4ad2-8b9e-02acde15223b\" class=\"colab-df-container\">\n",
              "    <div>\n",
              "<style scoped>\n",
              "    .dataframe tbody tr th:only-of-type {\n",
              "        vertical-align: middle;\n",
              "    }\n",
              "\n",
              "    .dataframe tbody tr th {\n",
              "        vertical-align: top;\n",
              "    }\n",
              "\n",
              "    .dataframe thead th {\n",
              "        text-align: right;\n",
              "    }\n",
              "</style>\n",
              "<table border=\"1\" class=\"dataframe\">\n",
              "  <thead>\n",
              "    <tr style=\"text-align: right;\">\n",
              "      <th></th>\n",
              "      <th>Price</th>\n",
              "      <th>Model Year</th>\n",
              "      <th>Mileage</th>\n",
              "      <th>Engine Capacity</th>\n",
              "    </tr>\n",
              "  </thead>\n",
              "  <tbody>\n",
              "    <tr>\n",
              "      <th>Price</th>\n",
              "      <td>1.000000</td>\n",
              "      <td>0.219344</td>\n",
              "      <td>-0.185998</td>\n",
              "      <td>0.668597</td>\n",
              "    </tr>\n",
              "    <tr>\n",
              "      <th>Model Year</th>\n",
              "      <td>0.219344</td>\n",
              "      <td>1.000000</td>\n",
              "      <td>-0.601255</td>\n",
              "      <td>-0.140032</td>\n",
              "    </tr>\n",
              "    <tr>\n",
              "      <th>Mileage</th>\n",
              "      <td>-0.185998</td>\n",
              "      <td>-0.601255</td>\n",
              "      <td>1.000000</td>\n",
              "      <td>0.091693</td>\n",
              "    </tr>\n",
              "    <tr>\n",
              "      <th>Engine Capacity</th>\n",
              "      <td>0.668597</td>\n",
              "      <td>-0.140032</td>\n",
              "      <td>0.091693</td>\n",
              "      <td>1.000000</td>\n",
              "    </tr>\n",
              "  </tbody>\n",
              "</table>\n",
              "</div>\n",
              "    <div class=\"colab-df-buttons\">\n",
              "\n",
              "  <div class=\"colab-df-container\">\n",
              "    <button class=\"colab-df-convert\" onclick=\"convertToInteractive('df-2f3b20db-e98e-4ad2-8b9e-02acde15223b')\"\n",
              "            title=\"Convert this dataframe to an interactive table.\"\n",
              "            style=\"display:none;\">\n",
              "\n",
              "  <svg xmlns=\"http://www.w3.org/2000/svg\" height=\"24px\" viewBox=\"0 -960 960 960\">\n",
              "    <path d=\"M120-120v-720h720v720H120Zm60-500h600v-160H180v160Zm220 220h160v-160H400v160Zm0 220h160v-160H400v160ZM180-400h160v-160H180v160Zm440 0h160v-160H620v160ZM180-180h160v-160H180v160Zm440 0h160v-160H620v160Z\"/>\n",
              "  </svg>\n",
              "    </button>\n",
              "\n",
              "  <style>\n",
              "    .colab-df-container {\n",
              "      display:flex;\n",
              "      gap: 12px;\n",
              "    }\n",
              "\n",
              "    .colab-df-convert {\n",
              "      background-color: #E8F0FE;\n",
              "      border: none;\n",
              "      border-radius: 50%;\n",
              "      cursor: pointer;\n",
              "      display: none;\n",
              "      fill: #1967D2;\n",
              "      height: 32px;\n",
              "      padding: 0 0 0 0;\n",
              "      width: 32px;\n",
              "    }\n",
              "\n",
              "    .colab-df-convert:hover {\n",
              "      background-color: #E2EBFA;\n",
              "      box-shadow: 0px 1px 2px rgba(60, 64, 67, 0.3), 0px 1px 3px 1px rgba(60, 64, 67, 0.15);\n",
              "      fill: #174EA6;\n",
              "    }\n",
              "\n",
              "    .colab-df-buttons div {\n",
              "      margin-bottom: 4px;\n",
              "    }\n",
              "\n",
              "    [theme=dark] .colab-df-convert {\n",
              "      background-color: #3B4455;\n",
              "      fill: #D2E3FC;\n",
              "    }\n",
              "\n",
              "    [theme=dark] .colab-df-convert:hover {\n",
              "      background-color: #434B5C;\n",
              "      box-shadow: 0px 1px 3px 1px rgba(0, 0, 0, 0.15);\n",
              "      filter: drop-shadow(0px 1px 2px rgba(0, 0, 0, 0.3));\n",
              "      fill: #FFFFFF;\n",
              "    }\n",
              "  </style>\n",
              "\n",
              "    <script>\n",
              "      const buttonEl =\n",
              "        document.querySelector('#df-2f3b20db-e98e-4ad2-8b9e-02acde15223b button.colab-df-convert');\n",
              "      buttonEl.style.display =\n",
              "        google.colab.kernel.accessAllowed ? 'block' : 'none';\n",
              "\n",
              "      async function convertToInteractive(key) {\n",
              "        const element = document.querySelector('#df-2f3b20db-e98e-4ad2-8b9e-02acde15223b');\n",
              "        const dataTable =\n",
              "          await google.colab.kernel.invokeFunction('convertToInteractive',\n",
              "                                                    [key], {});\n",
              "        if (!dataTable) return;\n",
              "\n",
              "        const docLinkHtml = 'Like what you see? Visit the ' +\n",
              "          '<a target=\"_blank\" href=https://colab.research.google.com/notebooks/data_table.ipynb>data table notebook</a>'\n",
              "          + ' to learn more about interactive tables.';\n",
              "        element.innerHTML = '';\n",
              "        dataTable['output_type'] = 'display_data';\n",
              "        await google.colab.output.renderOutput(dataTable, element);\n",
              "        const docLink = document.createElement('div');\n",
              "        docLink.innerHTML = docLinkHtml;\n",
              "        element.appendChild(docLink);\n",
              "      }\n",
              "    </script>\n",
              "  </div>\n",
              "\n",
              "\n",
              "<div id=\"df-dcffcb05-4e76-498b-a67e-d2e6ac44a501\">\n",
              "  <button class=\"colab-df-quickchart\" onclick=\"quickchart('df-dcffcb05-4e76-498b-a67e-d2e6ac44a501')\"\n",
              "            title=\"Suggest charts\"\n",
              "            style=\"display:none;\">\n",
              "\n",
              "<svg xmlns=\"http://www.w3.org/2000/svg\" height=\"24px\"viewBox=\"0 0 24 24\"\n",
              "     width=\"24px\">\n",
              "    <g>\n",
              "        <path d=\"M19 3H5c-1.1 0-2 .9-2 2v14c0 1.1.9 2 2 2h14c1.1 0 2-.9 2-2V5c0-1.1-.9-2-2-2zM9 17H7v-7h2v7zm4 0h-2V7h2v10zm4 0h-2v-4h2v4z\"/>\n",
              "    </g>\n",
              "</svg>\n",
              "  </button>\n",
              "\n",
              "<style>\n",
              "  .colab-df-quickchart {\n",
              "      --bg-color: #E8F0FE;\n",
              "      --fill-color: #1967D2;\n",
              "      --hover-bg-color: #E2EBFA;\n",
              "      --hover-fill-color: #174EA6;\n",
              "      --disabled-fill-color: #AAA;\n",
              "      --disabled-bg-color: #DDD;\n",
              "  }\n",
              "\n",
              "  [theme=dark] .colab-df-quickchart {\n",
              "      --bg-color: #3B4455;\n",
              "      --fill-color: #D2E3FC;\n",
              "      --hover-bg-color: #434B5C;\n",
              "      --hover-fill-color: #FFFFFF;\n",
              "      --disabled-bg-color: #3B4455;\n",
              "      --disabled-fill-color: #666;\n",
              "  }\n",
              "\n",
              "  .colab-df-quickchart {\n",
              "    background-color: var(--bg-color);\n",
              "    border: none;\n",
              "    border-radius: 50%;\n",
              "    cursor: pointer;\n",
              "    display: none;\n",
              "    fill: var(--fill-color);\n",
              "    height: 32px;\n",
              "    padding: 0;\n",
              "    width: 32px;\n",
              "  }\n",
              "\n",
              "  .colab-df-quickchart:hover {\n",
              "    background-color: var(--hover-bg-color);\n",
              "    box-shadow: 0 1px 2px rgba(60, 64, 67, 0.3), 0 1px 3px 1px rgba(60, 64, 67, 0.15);\n",
              "    fill: var(--button-hover-fill-color);\n",
              "  }\n",
              "\n",
              "  .colab-df-quickchart-complete:disabled,\n",
              "  .colab-df-quickchart-complete:disabled:hover {\n",
              "    background-color: var(--disabled-bg-color);\n",
              "    fill: var(--disabled-fill-color);\n",
              "    box-shadow: none;\n",
              "  }\n",
              "\n",
              "  .colab-df-spinner {\n",
              "    border: 2px solid var(--fill-color);\n",
              "    border-color: transparent;\n",
              "    border-bottom-color: var(--fill-color);\n",
              "    animation:\n",
              "      spin 1s steps(1) infinite;\n",
              "  }\n",
              "\n",
              "  @keyframes spin {\n",
              "    0% {\n",
              "      border-color: transparent;\n",
              "      border-bottom-color: var(--fill-color);\n",
              "      border-left-color: var(--fill-color);\n",
              "    }\n",
              "    20% {\n",
              "      border-color: transparent;\n",
              "      border-left-color: var(--fill-color);\n",
              "      border-top-color: var(--fill-color);\n",
              "    }\n",
              "    30% {\n",
              "      border-color: transparent;\n",
              "      border-left-color: var(--fill-color);\n",
              "      border-top-color: var(--fill-color);\n",
              "      border-right-color: var(--fill-color);\n",
              "    }\n",
              "    40% {\n",
              "      border-color: transparent;\n",
              "      border-right-color: var(--fill-color);\n",
              "      border-top-color: var(--fill-color);\n",
              "    }\n",
              "    60% {\n",
              "      border-color: transparent;\n",
              "      border-right-color: var(--fill-color);\n",
              "    }\n",
              "    80% {\n",
              "      border-color: transparent;\n",
              "      border-right-color: var(--fill-color);\n",
              "      border-bottom-color: var(--fill-color);\n",
              "    }\n",
              "    90% {\n",
              "      border-color: transparent;\n",
              "      border-bottom-color: var(--fill-color);\n",
              "    }\n",
              "  }\n",
              "</style>\n",
              "\n",
              "  <script>\n",
              "    async function quickchart(key) {\n",
              "      const quickchartButtonEl =\n",
              "        document.querySelector('#' + key + ' button');\n",
              "      quickchartButtonEl.disabled = true;  // To prevent multiple clicks.\n",
              "      quickchartButtonEl.classList.add('colab-df-spinner');\n",
              "      try {\n",
              "        const charts = await google.colab.kernel.invokeFunction(\n",
              "            'suggestCharts', [key], {});\n",
              "      } catch (error) {\n",
              "        console.error('Error during call to suggestCharts:', error);\n",
              "      }\n",
              "      quickchartButtonEl.classList.remove('colab-df-spinner');\n",
              "      quickchartButtonEl.classList.add('colab-df-quickchart-complete');\n",
              "    }\n",
              "    (() => {\n",
              "      let quickchartButtonEl =\n",
              "        document.querySelector('#df-dcffcb05-4e76-498b-a67e-d2e6ac44a501 button');\n",
              "      quickchartButtonEl.style.display =\n",
              "        google.colab.kernel.accessAllowed ? 'block' : 'none';\n",
              "    })();\n",
              "  </script>\n",
              "</div>\n",
              "\n",
              "    </div>\n",
              "  </div>\n"
            ]
          },
          "metadata": {},
          "execution_count": 35
        }
      ]
    },
    {
      "cell_type": "code",
      "source": [
        "df[\"Price\"].plot.kde()\n",
        "plt.xlim(-0.1e8, 0.1e8)"
      ],
      "metadata": {
        "id": "J1FVVAQF3yJ3",
        "colab": {
          "base_uri": "https://localhost:8080/",
          "height": 480
        },
        "outputId": "2830e211-7646-4521-dd07-8dd6dbb7355f"
      },
      "execution_count": 36,
      "outputs": [
        {
          "output_type": "execute_result",
          "data": {
            "text/plain": [
              "(-10000000.0, 10000000.0)"
            ]
          },
          "metadata": {},
          "execution_count": 36
        },
        {
          "output_type": "display_data",
          "data": {
            "text/plain": [
              "<Figure size 640x480 with 1 Axes>"
            ],
            "image/png": "[encoded data removed]"
          },
          "metadata": {}
        }
      ]
    },
    {
      "cell_type": "code",
      "source": [
        "df[\"Price\"].skew()"
      ],
      "metadata": {
        "id": "YfjOKTMC4deW",
        "colab": {
          "base_uri": "https://localhost:8080/"
        },
        "outputId": "4ba1d4d7-adae-4008-d20b-144b10797a3e"
      },
      "execution_count": 37,
      "outputs": [
        {
          "output_type": "execute_result",
          "data": {
            "text/plain": [
              "8.345325583507057"
            ]
          },
          "metadata": {},
          "execution_count": 37
        }
      ]
    },
    {
      "cell_type": "code",
      "source": [
        "df[\"Price\"].std()"
      ],
      "metadata": {
        "id": "3As6CnSC4d5V",
        "colab": {
          "base_uri": "https://localhost:8080/"
        },
        "outputId": "ca8620fc-dfbf-4236-a78d-f6ade0dd0bbc"
      },
      "execution_count": 38,
      "outputs": [
        {
          "output_type": "execute_result",
          "data": {
            "text/plain": [
              "2737940.0523351547"
            ]
          },
          "metadata": {},
          "execution_count": 38
        }
      ]
    },
    {
      "cell_type": "code",
      "source": [
        "df[\"Price\"].describe()"
      ],
      "metadata": {
        "id": "3cLu5B671DGO",
        "colab": {
          "base_uri": "https://localhost:8080/"
        },
        "outputId": "84d4c837-09b0-463a-d757-153ae3f0d606"
      },
      "execution_count": 39,
      "outputs": [
        {
          "output_type": "execute_result",
          "data": {
            "text/plain": [
              "count    4.216200e+04\n",
              "mean     1.946522e+06\n",
              "std      2.737940e+06\n",
              "min      1.110000e+05\n",
              "25%      8.250000e+05\n",
              "50%      1.450000e+06\n",
              "75%      2.275000e+06\n",
              "max      5.850000e+07\n",
              "Name: Price, dtype: float64"
            ]
          },
          "metadata": {},
          "execution_count": 39
        }
      ]
    },
    {
      "cell_type": "markdown",
      "source": [
        "## Transmission Type: -\n",
        "\n",
        "1.)  Data is evenly distributed"
      ],
      "metadata": {
        "id": "IQArCBIa2jau"
      }
    },
    {
      "cell_type": "code",
      "source": [
        "print(df[\"Transmission Type\"].value_counts(), \"\\n\\n\")\n",
        "\n",
        "print(((df[\"Transmission Type\"].value_counts().values)/ df.shape[0]) * 100)"
      ],
      "metadata": {
        "id": "ZEwXAt942Mu-",
        "colab": {
          "base_uri": "https://localhost:8080/"
        },
        "outputId": "075ea97b-39d1-43cb-fb59-7a7c580624be"
      },
      "execution_count": 40,
      "outputs": [
        {
          "output_type": "stream",
          "name": "stdout",
          "text": [
            "Manual       23339\n",
            "Automatic    18823\n",
            "Name: Transmission Type, dtype: int64 \n",
            "\n",
            "\n",
            "[55.35553342 44.64446658]\n"
          ]
        }
      ]
    },
    {
      "cell_type": "code",
      "source": [
        "df.head(3)"
      ],
      "metadata": {
        "id": "1FODUSN42ofl",
        "colab": {
          "base_uri": "https://localhost:8080/",
          "height": 161
        },
        "outputId": "0408f8c6-e1f3-41bc-e25e-60ca7288c4d3"
      },
      "execution_count": 41,
      "outputs": [
        {
          "output_type": "execute_result",
          "data": {
            "text/plain": [
              "  Company Name Model Name    Price  Model Year   Location  Mileage  \\\n",
              "0       Toyota       Vitz  2385000        2017  Islamabad     9869   \n",
              "1       Toyota    Corolla   111000        2019        KPK    11111   \n",
              "2       Suzuki       Alto  1530000        2019        KPK    17500   \n",
              "\n",
              "  Engine Type  Engine Capacity   Color  Assembly  Body Type Transmission Type  \\\n",
              "0      Petrol             1000  Silver  Imported  Hatchback         Automatic   \n",
              "1      Petrol             1300   White     Local      Sedan         Automatic   \n",
              "2      Petrol              660   White     Local  Hatchback         Automatic   \n",
              "\n",
              "  Registration Status  \n",
              "0       Un-Registered  \n",
              "1          Registered  \n",
              "2       Un-Registered  "
            ],
            "text/html": [
              "\n",
              "  <div id=\"df-1e99062f-189a-435d-9a30-e58ffa0fae9e\" class=\"colab-df-container\">\n",
              "    <div>\n",
              "<style scoped>\n",
              "    .dataframe tbody tr th:only-of-type {\n",
              "        vertical-align: middle;\n",
              "    }\n",
              "\n",
              "    .dataframe tbody tr th {\n",
              "        vertical-align: top;\n",
              "    }\n",
              "\n",
              "    .dataframe thead th {\n",
              "        text-align: right;\n",
              "    }\n",
              "</style>\n",
              "<table border=\"1\" class=\"dataframe\">\n",
              "  <thead>\n",
              "    <tr style=\"text-align: right;\">\n",
              "      <th></th>\n",
              "      <th>Company Name</th>\n",
              "      <th>Model Name</th>\n",
              "      <th>Price</th>\n",
              "      <th>Model Year</th>\n",
              "      <th>Location</th>\n",
              "      <th>Mileage</th>\n",
              "      <th>Engine Type</th>\n",
              "      <th>Engine Capacity</th>\n",
              "      <th>Color</th>\n",
              "      <th>Assembly</th>\n",
              "      <th>Body Type</th>\n",
              "      <th>Transmission Type</th>\n",
              "      <th>Registration Status</th>\n",
              "    </tr>\n",
              "  </thead>\n",
              "  <tbody>\n",
              "    <tr>\n",
              "      <th>0</th>\n",
              "      <td>Toyota</td>\n",
              "      <td>Vitz</td>\n",
              "      <td>2385000</td>\n",
              "      <td>2017</td>\n",
              "      <td>Islamabad</td>\n",
              "      <td>9869</td>\n",
              "      <td>Petrol</td>\n",
              "      <td>1000</td>\n",
              "      <td>Silver</td>\n",
              "      <td>Imported</td>\n",
              "      <td>Hatchback</td>\n",
              "      <td>Automatic</td>\n",
              "      <td>Un-Registered</td>\n",
              "    </tr>\n",
              "    <tr>\n",
              "      <th>1</th>\n",
              "      <td>Toyota</td>\n",
              "      <td>Corolla</td>\n",
              "      <td>111000</td>\n",
              "      <td>2019</td>\n",
              "      <td>KPK</td>\n",
              "      <td>11111</td>\n",
              "      <td>Petrol</td>\n",
              "      <td>1300</td>\n",
              "      <td>White</td>\n",
              "      <td>Local</td>\n",
              "      <td>Sedan</td>\n",
              "      <td>Automatic</td>\n",
              "      <td>Registered</td>\n",
              "    </tr>\n",
              "    <tr>\n",
              "      <th>2</th>\n",
              "      <td>Suzuki</td>\n",
              "      <td>Alto</td>\n",
              "      <td>1530000</td>\n",
              "      <td>2019</td>\n",
              "      <td>KPK</td>\n",
              "      <td>17500</td>\n",
              "      <td>Petrol</td>\n",
              "      <td>660</td>\n",
              "      <td>White</td>\n",
              "      <td>Local</td>\n",
              "      <td>Hatchback</td>\n",
              "      <td>Automatic</td>\n",
              "      <td>Un-Registered</td>\n",
              "    </tr>\n",
              "  </tbody>\n",
              "</table>\n",
              "</div>\n",
              "    <div class=\"colab-df-buttons\">\n",
              "\n",
              "  <div class=\"colab-df-container\">\n",
              "    <button class=\"colab-df-convert\" onclick=\"convertToInteractive('df-1e99062f-189a-435d-9a30-e58ffa0fae9e')\"\n",
              "            title=\"Convert this dataframe to an interactive table.\"\n",
              "            style=\"display:none;\">\n",
              "\n",
              "  <svg xmlns=\"http://www.w3.org/2000/svg\" height=\"24px\" viewBox=\"0 -960 960 960\">\n",
              "    <path d=\"M120-120v-720h720v720H120Zm60-500h600v-160H180v160Zm220 220h160v-160H400v160Zm0 220h160v-160H400v160ZM180-400h160v-160H180v160Zm440 0h160v-160H620v160ZM180-180h160v-160H180v160Zm440 0h160v-160H620v160Z\"/>\n",
              "  </svg>\n",
              "    </button>\n",
              "\n",
              "  <style>\n",
              "    .colab-df-container {\n",
              "      display:flex;\n",
              "      gap: 12px;\n",
              "    }\n",
              "\n",
              "    .colab-df-convert {\n",
              "      background-color: #E8F0FE;\n",
              "      border: none;\n",
              "      border-radius: 50%;\n",
              "      cursor: pointer;\n",
              "      display: none;\n",
              "      fill: #1967D2;\n",
              "      height: 32px;\n",
              "      padding: 0 0 0 0;\n",
              "      width: 32px;\n",
              "    }\n",
              "\n",
              "    .colab-df-convert:hover {\n",
              "      background-color: #E2EBFA;\n",
              "      box-shadow: 0px 1px 2px rgba(60, 64, 67, 0.3), 0px 1px 3px 1px rgba(60, 64, 67, 0.15);\n",
              "      fill: #174EA6;\n",
              "    }\n",
              "\n",
              "    .colab-df-buttons div {\n",
              "      margin-bottom: 4px;\n",
              "    }\n",
              "\n",
              "    [theme=dark] .colab-df-convert {\n",
              "      background-color: #3B4455;\n",
              "      fill: #D2E3FC;\n",
              "    }\n",
              "\n",
              "    [theme=dark] .colab-df-convert:hover {\n",
              "      background-color: #434B5C;\n",
              "      box-shadow: 0px 1px 3px 1px rgba(0, 0, 0, 0.15);\n",
              "      filter: drop-shadow(0px 1px 2px rgba(0, 0, 0, 0.3));\n",
              "      fill: #FFFFFF;\n",
              "    }\n",
              "  </style>\n",
              "\n",
              "    <script>\n",
              "      const buttonEl =\n",
              "        document.querySelector('#df-1e99062f-189a-435d-9a30-e58ffa0fae9e button.colab-df-convert');\n",
              "      buttonEl.style.display =\n",
              "        google.colab.kernel.accessAllowed ? 'block' : 'none';\n",
              "\n",
              "      async function convertToInteractive(key) {\n",
              "        const element = document.querySelector('#df-1e99062f-189a-435d-9a30-e58ffa0fae9e');\n",
              "        const dataTable =\n",
              "          await google.colab.kernel.invokeFunction('convertToInteractive',\n",
              "                                                    [key], {});\n",
              "        if (!dataTable) return;\n",
              "\n",
              "        const docLinkHtml = 'Like what you see? Visit the ' +\n",
              "          '<a target=\"_blank\" href=https://colab.research.google.com/notebooks/data_table.ipynb>data table notebook</a>'\n",
              "          + ' to learn more about interactive tables.';\n",
              "        element.innerHTML = '';\n",
              "        dataTable['output_type'] = 'display_data';\n",
              "        await google.colab.output.renderOutput(dataTable, element);\n",
              "        const docLink = document.createElement('div');\n",
              "        docLink.innerHTML = docLinkHtml;\n",
              "        element.appendChild(docLink);\n",
              "      }\n",
              "    </script>\n",
              "  </div>\n",
              "\n",
              "\n",
              "<div id=\"df-78b41811-c294-460d-a407-3f7099ea9802\">\n",
              "  <button class=\"colab-df-quickchart\" onclick=\"quickchart('df-78b41811-c294-460d-a407-3f7099ea9802')\"\n",
              "            title=\"Suggest charts\"\n",
              "            style=\"display:none;\">\n",
              "\n",
              "<svg xmlns=\"http://www.w3.org/2000/svg\" height=\"24px\"viewBox=\"0 0 24 24\"\n",
              "     width=\"24px\">\n",
              "    <g>\n",
              "        <path d=\"M19 3H5c-1.1 0-2 .9-2 2v14c0 1.1.9 2 2 2h14c1.1 0 2-.9 2-2V5c0-1.1-.9-2-2-2zM9 17H7v-7h2v7zm4 0h-2V7h2v10zm4 0h-2v-4h2v4z\"/>\n",
              "    </g>\n",
              "</svg>\n",
              "  </button>\n",
              "\n",
              "<style>\n",
              "  .colab-df-quickchart {\n",
              "      --bg-color: #E8F0FE;\n",
              "      --fill-color: #1967D2;\n",
              "      --hover-bg-color: #E2EBFA;\n",
              "      --hover-fill-color: #174EA6;\n",
              "      --disabled-fill-color: #AAA;\n",
              "      --disabled-bg-color: #DDD;\n",
              "  }\n",
              "\n",
              "  [theme=dark] .colab-df-quickchart {\n",
              "      --bg-color: #3B4455;\n",
              "      --fill-color: #D2E3FC;\n",
              "      --hover-bg-color: #434B5C;\n",
              "      --hover-fill-color: #FFFFFF;\n",
              "      --disabled-bg-color: #3B4455;\n",
              "      --disabled-fill-color: #666;\n",
              "  }\n",
              "\n",
              "  .colab-df-quickchart {\n",
              "    background-color: var(--bg-color);\n",
              "    border: none;\n",
              "    border-radius: 50%;\n",
              "    cursor: pointer;\n",
              "    display: none;\n",
              "    fill: var(--fill-color);\n",
              "    height: 32px;\n",
              "    padding: 0;\n",
              "    width: 32px;\n",
              "  }\n",
              "\n",
              "  .colab-df-quickchart:hover {\n",
              "    background-color: var(--hover-bg-color);\n",
              "    box-shadow: 0 1px 2px rgba(60, 64, 67, 0.3), 0 1px 3px 1px rgba(60, 64, 67, 0.15);\n",
              "    fill: var(--button-hover-fill-color);\n",
              "  }\n",
              "\n",
              "  .colab-df-quickchart-complete:disabled,\n",
              "  .colab-df-quickchart-complete:disabled:hover {\n",
              "    background-color: var(--disabled-bg-color);\n",
              "    fill: var(--disabled-fill-color);\n",
              "    box-shadow: none;\n",
              "  }\n",
              "\n",
              "  .colab-df-spinner {\n",
              "    border: 2px solid var(--fill-color);\n",
              "    border-color: transparent;\n",
              "    border-bottom-color: var(--fill-color);\n",
              "    animation:\n",
              "      spin 1s steps(1) infinite;\n",
              "  }\n",
              "\n",
              "  @keyframes spin {\n",
              "    0% {\n",
              "      border-color: transparent;\n",
              "      border-bottom-color: var(--fill-color);\n",
              "      border-left-color: var(--fill-color);\n",
              "    }\n",
              "    20% {\n",
              "      border-color: transparent;\n",
              "      border-left-color: var(--fill-color);\n",
              "      border-top-color: var(--fill-color);\n",
              "    }\n",
              "    30% {\n",
              "      border-color: transparent;\n",
              "      border-left-color: var(--fill-color);\n",
              "      border-top-color: var(--fill-color);\n",
              "      border-right-color: var(--fill-color);\n",
              "    }\n",
              "    40% {\n",
              "      border-color: transparent;\n",
              "      border-right-color: var(--fill-color);\n",
              "      border-top-color: var(--fill-color);\n",
              "    }\n",
              "    60% {\n",
              "      border-color: transparent;\n",
              "      border-right-color: var(--fill-color);\n",
              "    }\n",
              "    80% {\n",
              "      border-color: transparent;\n",
              "      border-right-color: var(--fill-color);\n",
              "      border-bottom-color: var(--fill-color);\n",
              "    }\n",
              "    90% {\n",
              "      border-color: transparent;\n",
              "      border-bottom-color: var(--fill-color);\n",
              "    }\n",
              "  }\n",
              "</style>\n",
              "\n",
              "  <script>\n",
              "    async function quickchart(key) {\n",
              "      const quickchartButtonEl =\n",
              "        document.querySelector('#' + key + ' button');\n",
              "      quickchartButtonEl.disabled = true;  // To prevent multiple clicks.\n",
              "      quickchartButtonEl.classList.add('colab-df-spinner');\n",
              "      try {\n",
              "        const charts = await google.colab.kernel.invokeFunction(\n",
              "            'suggestCharts', [key], {});\n",
              "      } catch (error) {\n",
              "        console.error('Error during call to suggestCharts:', error);\n",
              "      }\n",
              "      quickchartButtonEl.classList.remove('colab-df-spinner');\n",
              "      quickchartButtonEl.classList.add('colab-df-quickchart-complete');\n",
              "    }\n",
              "    (() => {\n",
              "      let quickchartButtonEl =\n",
              "        document.querySelector('#df-78b41811-c294-460d-a407-3f7099ea9802 button');\n",
              "      quickchartButtonEl.style.display =\n",
              "        google.colab.kernel.accessAllowed ? 'block' : 'none';\n",
              "    })();\n",
              "  </script>\n",
              "</div>\n",
              "\n",
              "    </div>\n",
              "  </div>\n"
            ]
          },
          "metadata": {},
          "execution_count": 41
        }
      ]
    },
    {
      "cell_type": "markdown",
      "source": [
        "## \tRegistration Status:-\n",
        "\n",
        "1.) The Data is not evenly distributed The Registered entries are 92% where as the unregistered ones are 8% approx."
      ],
      "metadata": {
        "id": "XUzM7yUE3KlQ"
      }
    },
    {
      "cell_type": "code",
      "source": [
        "print(df[\"Registration Status\"].value_counts(), \"\\n\\n\")\n",
        "\n",
        "print(((df[\"Registration Status\"].value_counts().values)/ df.shape[0]) * 100)"
      ],
      "metadata": {
        "id": "8FI4PI9v3HYV",
        "colab": {
          "base_uri": "https://localhost:8080/"
        },
        "outputId": "7daf495d-9945-4c6e-d3b4-2024cde1b16d"
      },
      "execution_count": 42,
      "outputs": [
        {
          "output_type": "stream",
          "name": "stdout",
          "text": [
            "Registered       39333\n",
            "Un-Registered     2829\n",
            "Name: Registration Status, dtype: int64 \n",
            "\n",
            "\n",
            "[93.2901665  6.7098335]\n"
          ]
        }
      ]
    },
    {
      "cell_type": "markdown",
      "source": [
        "## Engine Type: -\n",
        "\n",
        "1.) Most of the Cars engine type is of Petrol i.e., 94% of the cars operate on petrol"
      ],
      "metadata": {
        "id": "iNJK8tNm5ZVE"
      }
    },
    {
      "cell_type": "code",
      "source": [
        "print(df[\"Engine Type\"].value_counts(), \"\\n\\n\")\n",
        "\n",
        "print(((df[\"Engine Type\"].value_counts().values)/ df.shape[0]) * 100)"
      ],
      "metadata": {
        "id": "TGtJwgpw3WHJ",
        "colab": {
          "base_uri": "https://localhost:8080/"
        },
        "outputId": "0349d0c6-d574-4684-80eb-5aab24b8aca6"
      },
      "execution_count": 43,
      "outputs": [
        {
          "output_type": "stream",
          "name": "stdout",
          "text": [
            "Petrol    40172\n",
            "Hybrid     1156\n",
            "Diesel      834\n",
            "Name: Engine Type, dtype: int64 \n",
            "\n",
            "\n",
            "[95.28011005  2.74180542  1.97808453]\n"
          ]
        }
      ]
    },
    {
      "cell_type": "markdown",
      "source": [
        "## Color: -\n",
        "\n",
        "1.) Popular colors of the cars are Mainly White 38%, Silver 17%, Black 13%, Grey 10%, Blue 4%, etc."
      ],
      "metadata": {
        "id": "F1vISZPC5yHB"
      }
    },
    {
      "cell_type": "code",
      "source": [
        "print(df[\"Color\"].value_counts(), \"\\n\\n\")\n",
        "\n",
        "print((((df[\"Color\"].value_counts().values)/ df.shape[0]) * 100))"
      ],
      "metadata": {
        "id": "3dNzInUc5hOL",
        "colab": {
          "base_uri": "https://localhost:8080/"
        },
        "outputId": "a452d5c8-60f8-41f6-da71-0a95ff34cd4c"
      },
      "execution_count": 44,
      "outputs": [
        {
          "output_type": "stream",
          "name": "stdout",
          "text": [
            "White        16210\n",
            "Silver        7311\n",
            "Black         5456\n",
            "Grey          4729\n",
            "Blue          1933\n",
            "Assembly      1258\n",
            "Gold           944\n",
            "Maroon         851\n",
            "Green          710\n",
            "Red            696\n",
            "Beige          531\n",
            "Burgundy       277\n",
            "Brown          234\n",
            "Bronze         199\n",
            "Turquoise      194\n",
            "Pink           178\n",
            "Navy           107\n",
            "Unlisted       100\n",
            "Indigo          79\n",
            "Yellow          78\n",
            "Purple          71\n",
            "Orange          14\n",
            "Magenta          2\n",
            "Name: Color, dtype: int64 \n",
            "\n",
            "\n",
            "[3.84469427e+01 1.73402590e+01 1.29405626e+01 1.12162611e+01\n",
            " 4.58469712e+00 2.98372942e+00 2.23898297e+00 2.01840520e+00\n",
            " 1.68398084e+00 1.65077558e+00 1.25942792e+00 6.56989706e-01\n",
            " 5.55002135e-01 4.71988995e-01 4.60129975e-01 4.22181111e-01\n",
            " 2.53783027e-01 2.37180399e-01 1.87372516e-01 1.85000712e-01\n",
            " 1.68398084e-01 3.32052559e-02 4.74360799e-03]\n"
          ]
        }
      ]
    },
    {
      "cell_type": "code",
      "source": [
        "colorFilter = df[\"Color\"].value_counts()[(df[\"Color\"].value_counts() > 100).values]"
      ],
      "metadata": {
        "id": "QkC36aXui-qM"
      },
      "execution_count": 45,
      "outputs": []
    },
    {
      "cell_type": "code",
      "source": [
        "colorFilter.index"
      ],
      "metadata": {
        "id": "SdqrkPE7i-nn",
        "colab": {
          "base_uri": "https://localhost:8080/"
        },
        "outputId": "a42e10ba-2a1e-499b-e9e6-dd2c025b4b21"
      },
      "execution_count": 46,
      "outputs": [
        {
          "output_type": "execute_result",
          "data": {
            "text/plain": [
              "Index(['White', 'Silver', 'Black', 'Grey', 'Blue', 'Assembly', 'Gold',\n",
              "       'Maroon', 'Green', 'Red', 'Beige', 'Burgundy', 'Brown', 'Bronze',\n",
              "       'Turquoise', 'Pink', 'Navy'],\n",
              "      dtype='object')"
            ]
          },
          "metadata": {},
          "execution_count": 46
        }
      ]
    },
    {
      "cell_type": "code",
      "source": [
        "# Filter the companies whose count of color are greater than 100\n",
        "\n",
        "df = df[df[\"Color\"].isin(colorFilter.index)]"
      ],
      "metadata": {
        "id": "GNyMQzvUi-i0"
      },
      "execution_count": 47,
      "outputs": []
    },
    {
      "cell_type": "code",
      "source": [
        "df.shape"
      ],
      "metadata": {
        "id": "-ZMdtIDxi-gU",
        "colab": {
          "base_uri": "https://localhost:8080/"
        },
        "outputId": "7379ed76-2d5a-4dfb-bb97-82ce5794b54b"
      },
      "execution_count": 48,
      "outputs": [
        {
          "output_type": "execute_result",
          "data": {
            "text/plain": [
              "(41818, 13)"
            ]
          },
          "metadata": {},
          "execution_count": 48
        }
      ]
    },
    {
      "cell_type": "markdown",
      "source": [
        "## Assembly:-\n",
        "\n",
        "1.) It's almost evenly distributed"
      ],
      "metadata": {
        "id": "tuR90NXz6hvc"
      }
    },
    {
      "cell_type": "code",
      "source": [
        "print(df[\"Assembly\"].value_counts(), \"\\n\\n\")\n",
        "\n",
        "print((((df[\"Assembly\"].value_counts().values)/ df.shape[0]) * 100))"
      ],
      "metadata": {
        "id": "f4MxUUFd53lX",
        "colab": {
          "base_uri": "https://localhost:8080/"
        },
        "outputId": "9c7cc1ee-7b51-458f-d60a-aa52a3693aec"
      },
      "execution_count": 49,
      "outputs": [
        {
          "output_type": "stream",
          "name": "stdout",
          "text": [
            "Local       29840\n",
            "Imported    11978\n",
            "Name: Assembly, dtype: int64 \n",
            "\n",
            "\n",
            "[71.35683199 28.64316801]\n"
          ]
        }
      ]
    },
    {
      "cell_type": "markdown",
      "source": [
        "## Body Type:-\n",
        "\n",
        "1.) The 2 popular body type of the car are Hatchback 46.7% and Sedan of 41.3%"
      ],
      "metadata": {
        "id": "rsUddJWi63A3"
      }
    },
    {
      "cell_type": "code",
      "source": [
        "print(df[\"Body Type\"].value_counts(), \"\\n\\n\")\n",
        "\n",
        "print((((df[\"Body Type\"].value_counts().values)/ df.shape[0]) * 100))"
      ],
      "metadata": {
        "id": "S427zlxd6nHL",
        "colab": {
          "base_uri": "https://localhost:8080/"
        },
        "outputId": "6ba6eac6-2711-4b21-8350-249a3db67e83"
      },
      "execution_count": 50,
      "outputs": [
        {
          "output_type": "stream",
          "name": "stdout",
          "text": [
            "Hatchback     19954\n",
            "Sedan         17808\n",
            "SUV            1800\n",
            "Cross Over      992\n",
            "Mini Van        774\n",
            "Van             490\n",
            "Name: Body Type, dtype: int64 \n",
            "\n",
            "\n",
            "[47.71629442 42.58453298  4.30436654  2.37218423  1.85087761  1.17174422]\n"
          ]
        }
      ]
    },
    {
      "cell_type": "markdown",
      "source": [
        "## Location: -"
      ],
      "metadata": {
        "id": "A8PigCMhHUKB"
      }
    },
    {
      "cell_type": "code",
      "source": [
        "print(df[\"Location\"].value_counts(), \"\\n\\n\")\n",
        "\n",
        "print((((df[\"Location\"].value_counts().values)/ df.shape[0]) * 100))"
      ],
      "metadata": {
        "id": "0NoXblQ5HTmi",
        "colab": {
          "base_uri": "https://localhost:8080/"
        },
        "outputId": "3116ad70-808e-4619-bc34-555482315d33"
      },
      "execution_count": 51,
      "outputs": [
        {
          "output_type": "stream",
          "name": "stdout",
          "text": [
            "Punjab         22442\n",
            "Sindh           7831\n",
            "Islamabad       6041\n",
            "KPK             4971\n",
            "Balochistan      302\n",
            "Kashmir          231\n",
            "Name: Location, dtype: int64 \n",
            "\n",
            "\n",
            "[53.6658855  18.72638577 14.44593237 11.8872256   0.72217705  0.55239371]\n"
          ]
        }
      ]
    },
    {
      "cell_type": "markdown",
      "source": [
        "## Train-Test Split"
      ],
      "metadata": {
        "id": "HUKFifebIrdD"
      }
    },
    {
      "cell_type": "code",
      "source": [
        "x_train, x_test, y_train, y_test = train_test_split(df.drop(columns= [\"Price\"]), df[\"Price\"], test_size = 0.3, random_state = 1)"
      ],
      "metadata": {
        "id": "oxSRShNU7TJg"
      },
      "execution_count": 52,
      "outputs": []
    },
    {
      "cell_type": "markdown",
      "source": [
        "## Column Transformation ( Applying OHE )"
      ],
      "metadata": {
        "id": "ivd72o6z7URC"
      }
    },
    {
      "cell_type": "code",
      "source": [
        "df.head(3)"
      ],
      "metadata": {
        "id": "3QW_lwOy69I8",
        "colab": {
          "base_uri": "https://localhost:8080/",
          "height": 161
        },
        "outputId": "15615430-df29-44c5-9639-30daa8bfa052"
      },
      "execution_count": 53,
      "outputs": [
        {
          "output_type": "execute_result",
          "data": {
            "text/plain": [
              "  Company Name Model Name    Price  Model Year   Location  Mileage  \\\n",
              "0       Toyota       Vitz  2385000        2017  Islamabad     9869   \n",
              "1       Toyota    Corolla   111000        2019        KPK    11111   \n",
              "2       Suzuki       Alto  1530000        2019        KPK    17500   \n",
              "\n",
              "  Engine Type  Engine Capacity   Color  Assembly  Body Type Transmission Type  \\\n",
              "0      Petrol             1000  Silver  Imported  Hatchback         Automatic   \n",
              "1      Petrol             1300   White     Local      Sedan         Automatic   \n",
              "2      Petrol              660   White     Local  Hatchback         Automatic   \n",
              "\n",
              "  Registration Status  \n",
              "0       Un-Registered  \n",
              "1          Registered  \n",
              "2       Un-Registered  "
            ],
            "text/html": [
              "\n",
              "  <div id=\"df-7a683683-0d1b-49fd-88b0-bcef14d10532\" class=\"colab-df-container\">\n",
              "    <div>\n",
              "<style scoped>\n",
              "    .dataframe tbody tr th:only-of-type {\n",
              "        vertical-align: middle;\n",
              "    }\n",
              "\n",
              "    .dataframe tbody tr th {\n",
              "        vertical-align: top;\n",
              "    }\n",
              "\n",
              "    .dataframe thead th {\n",
              "        text-align: right;\n",
              "    }\n",
              "</style>\n",
              "<table border=\"1\" class=\"dataframe\">\n",
              "  <thead>\n",
              "    <tr style=\"text-align: right;\">\n",
              "      <th></th>\n",
              "      <th>Company Name</th>\n",
              "      <th>Model Name</th>\n",
              "      <th>Price</th>\n",
              "      <th>Model Year</th>\n",
              "      <th>Location</th>\n",
              "      <th>Mileage</th>\n",
              "      <th>Engine Type</th>\n",
              "      <th>Engine Capacity</th>\n",
              "      <th>Color</th>\n",
              "      <th>Assembly</th>\n",
              "      <th>Body Type</th>\n",
              "      <th>Transmission Type</th>\n",
              "      <th>Registration Status</th>\n",
              "    </tr>\n",
              "  </thead>\n",
              "  <tbody>\n",
              "    <tr>\n",
              "      <th>0</th>\n",
              "      <td>Toyota</td>\n",
              "      <td>Vitz</td>\n",
              "      <td>2385000</td>\n",
              "      <td>2017</td>\n",
              "      <td>Islamabad</td>\n",
              "      <td>9869</td>\n",
              "      <td>Petrol</td>\n",
              "      <td>1000</td>\n",
              "      <td>Silver</td>\n",
              "      <td>Imported</td>\n",
              "      <td>Hatchback</td>\n",
              "      <td>Automatic</td>\n",
              "      <td>Un-Registered</td>\n",
              "    </tr>\n",
              "    <tr>\n",
              "      <th>1</th>\n",
              "      <td>Toyota</td>\n",
              "      <td>Corolla</td>\n",
              "      <td>111000</td>\n",
              "      <td>2019</td>\n",
              "      <td>KPK</td>\n",
              "      <td>11111</td>\n",
              "      <td>Petrol</td>\n",
              "      <td>1300</td>\n",
              "      <td>White</td>\n",
              "      <td>Local</td>\n",
              "      <td>Sedan</td>\n",
              "      <td>Automatic</td>\n",
              "      <td>Registered</td>\n",
              "    </tr>\n",
              "    <tr>\n",
              "      <th>2</th>\n",
              "      <td>Suzuki</td>\n",
              "      <td>Alto</td>\n",
              "      <td>1530000</td>\n",
              "      <td>2019</td>\n",
              "      <td>KPK</td>\n",
              "      <td>17500</td>\n",
              "      <td>Petrol</td>\n",
              "      <td>660</td>\n",
              "      <td>White</td>\n",
              "      <td>Local</td>\n",
              "      <td>Hatchback</td>\n",
              "      <td>Automatic</td>\n",
              "      <td>Un-Registered</td>\n",
              "    </tr>\n",
              "  </tbody>\n",
              "</table>\n",
              "</div>\n",
              "    <div class=\"colab-df-buttons\">\n",
              "\n",
              "  <div class=\"colab-df-container\">\n",
              "    <button class=\"colab-df-convert\" onclick=\"convertToInteractive('df-7a683683-0d1b-49fd-88b0-bcef14d10532')\"\n",
              "            title=\"Convert this dataframe to an interactive table.\"\n",
              "            style=\"display:none;\">\n",
              "\n",
              "  <svg xmlns=\"http://www.w3.org/2000/svg\" height=\"24px\" viewBox=\"0 -960 960 960\">\n",
              "    <path d=\"M120-120v-720h720v720H120Zm60-500h600v-160H180v160Zm220 220h160v-160H400v160Zm0 220h160v-160H400v160ZM180-400h160v-160H180v160Zm440 0h160v-160H620v160ZM180-180h160v-160H180v160Zm440 0h160v-160H620v160Z\"/>\n",
              "  </svg>\n",
              "    </button>\n",
              "\n",
              "  <style>\n",
              "    .colab-df-container {\n",
              "      display:flex;\n",
              "      gap: 12px;\n",
              "    }\n",
              "\n",
              "    .colab-df-convert {\n",
              "      background-color: #E8F0FE;\n",
              "      border: none;\n",
              "      border-radius: 50%;\n",
              "      cursor: pointer;\n",
              "      display: none;\n",
              "      fill: #1967D2;\n",
              "      height: 32px;\n",
              "      padding: 0 0 0 0;\n",
              "      width: 32px;\n",
              "    }\n",
              "\n",
              "    .colab-df-convert:hover {\n",
              "      background-color: #E2EBFA;\n",
              "      box-shadow: 0px 1px 2px rgba(60, 64, 67, 0.3), 0px 1px 3px 1px rgba(60, 64, 67, 0.15);\n",
              "      fill: #174EA6;\n",
              "    }\n",
              "\n",
              "    .colab-df-buttons div {\n",
              "      margin-bottom: 4px;\n",
              "    }\n",
              "\n",
              "    [theme=dark] .colab-df-convert {\n",
              "      background-color: #3B4455;\n",
              "      fill: #D2E3FC;\n",
              "    }\n",
              "\n",
              "    [theme=dark] .colab-df-convert:hover {\n",
              "      background-color: #434B5C;\n",
              "      box-shadow: 0px 1px 3px 1px rgba(0, 0, 0, 0.15);\n",
              "      filter: drop-shadow(0px 1px 2px rgba(0, 0, 0, 0.3));\n",
              "      fill: #FFFFFF;\n",
              "    }\n",
              "  </style>\n",
              "\n",
              "    <script>\n",
              "      const buttonEl =\n",
              "        document.querySelector('#df-7a683683-0d1b-49fd-88b0-bcef14d10532 button.colab-df-convert');\n",
              "      buttonEl.style.display =\n",
              "        google.colab.kernel.accessAllowed ? 'block' : 'none';\n",
              "\n",
              "      async function convertToInteractive(key) {\n",
              "        const element = document.querySelector('#df-7a683683-0d1b-49fd-88b0-bcef14d10532');\n",
              "        const dataTable =\n",
              "          await google.colab.kernel.invokeFunction('convertToInteractive',\n",
              "                                                    [key], {});\n",
              "        if (!dataTable) return;\n",
              "\n",
              "        const docLinkHtml = 'Like what you see? Visit the ' +\n",
              "          '<a target=\"_blank\" href=https://colab.research.google.com/notebooks/data_table.ipynb>data table notebook</a>'\n",
              "          + ' to learn more about interactive tables.';\n",
              "        element.innerHTML = '';\n",
              "        dataTable['output_type'] = 'display_data';\n",
              "        await google.colab.output.renderOutput(dataTable, element);\n",
              "        const docLink = document.createElement('div');\n",
              "        docLink.innerHTML = docLinkHtml;\n",
              "        element.appendChild(docLink);\n",
              "      }\n",
              "    </script>\n",
              "  </div>\n",
              "\n",
              "\n",
              "<div id=\"df-8307b9e4-3a87-4ac1-add3-f56c9de13fc1\">\n",
              "  <button class=\"colab-df-quickchart\" onclick=\"quickchart('df-8307b9e4-3a87-4ac1-add3-f56c9de13fc1')\"\n",
              "            title=\"Suggest charts\"\n",
              "            style=\"display:none;\">\n",
              "\n",
              "<svg xmlns=\"http://www.w3.org/2000/svg\" height=\"24px\"viewBox=\"0 0 24 24\"\n",
              "     width=\"24px\">\n",
              "    <g>\n",
              "        <path d=\"M19 3H5c-1.1 0-2 .9-2 2v14c0 1.1.9 2 2 2h14c1.1 0 2-.9 2-2V5c0-1.1-.9-2-2-2zM9 17H7v-7h2v7zm4 0h-2V7h2v10zm4 0h-2v-4h2v4z\"/>\n",
              "    </g>\n",
              "</svg>\n",
              "  </button>\n",
              "\n",
              "<style>\n",
              "  .colab-df-quickchart {\n",
              "      --bg-color: #E8F0FE;\n",
              "      --fill-color: #1967D2;\n",
              "      --hover-bg-color: #E2EBFA;\n",
              "      --hover-fill-color: #174EA6;\n",
              "      --disabled-fill-color: #AAA;\n",
              "      --disabled-bg-color: #DDD;\n",
              "  }\n",
              "\n",
              "  [theme=dark] .colab-df-quickchart {\n",
              "      --bg-color: #3B4455;\n",
              "      --fill-color: #D2E3FC;\n",
              "      --hover-bg-color: #434B5C;\n",
              "      --hover-fill-color: #FFFFFF;\n",
              "      --disabled-bg-color: #3B4455;\n",
              "      --disabled-fill-color: #666;\n",
              "  }\n",
              "\n",
              "  .colab-df-quickchart {\n",
              "    background-color: var(--bg-color);\n",
              "    border: none;\n",
              "    border-radius: 50%;\n",
              "    cursor: pointer;\n",
              "    display: none;\n",
              "    fill: var(--fill-color);\n",
              "    height: 32px;\n",
              "    padding: 0;\n",
              "    width: 32px;\n",
              "  }\n",
              "\n",
              "  .colab-df-quickchart:hover {\n",
              "    background-color: var(--hover-bg-color);\n",
              "    box-shadow: 0 1px 2px rgba(60, 64, 67, 0.3), 0 1px 3px 1px rgba(60, 64, 67, 0.15);\n",
              "    fill: var(--button-hover-fill-color);\n",
              "  }\n",
              "\n",
              "  .colab-df-quickchart-complete:disabled,\n",
              "  .colab-df-quickchart-complete:disabled:hover {\n",
              "    background-color: var(--disabled-bg-color);\n",
              "    fill: var(--disabled-fill-color);\n",
              "    box-shadow: none;\n",
              "  }\n",
              "\n",
              "  .colab-df-spinner {\n",
              "    border: 2px solid var(--fill-color);\n",
              "    border-color: transparent;\n",
              "    border-bottom-color: var(--fill-color);\n",
              "    animation:\n",
              "      spin 1s steps(1) infinite;\n",
              "  }\n",
              "\n",
              "  @keyframes spin {\n",
              "    0% {\n",
              "      border-color: transparent;\n",
              "      border-bottom-color: var(--fill-color);\n",
              "      border-left-color: var(--fill-color);\n",
              "    }\n",
              "    20% {\n",
              "      border-color: transparent;\n",
              "      border-left-color: var(--fill-color);\n",
              "      border-top-color: var(--fill-color);\n",
              "    }\n",
              "    30% {\n",
              "      border-color: transparent;\n",
              "      border-left-color: var(--fill-color);\n",
              "      border-top-color: var(--fill-color);\n",
              "      border-right-color: var(--fill-color);\n",
              "    }\n",
              "    40% {\n",
              "      border-color: transparent;\n",
              "      border-right-color: var(--fill-color);\n",
              "      border-top-color: var(--fill-color);\n",
              "    }\n",
              "    60% {\n",
              "      border-color: transparent;\n",
              "      border-right-color: var(--fill-color);\n",
              "    }\n",
              "    80% {\n",
              "      border-color: transparent;\n",
              "      border-right-color: var(--fill-color);\n",
              "      border-bottom-color: var(--fill-color);\n",
              "    }\n",
              "    90% {\n",
              "      border-color: transparent;\n",
              "      border-bottom-color: var(--fill-color);\n",
              "    }\n",
              "  }\n",
              "</style>\n",
              "\n",
              "  <script>\n",
              "    async function quickchart(key) {\n",
              "      const quickchartButtonEl =\n",
              "        document.querySelector('#' + key + ' button');\n",
              "      quickchartButtonEl.disabled = true;  // To prevent multiple clicks.\n",
              "      quickchartButtonEl.classList.add('colab-df-spinner');\n",
              "      try {\n",
              "        const charts = await google.colab.kernel.invokeFunction(\n",
              "            'suggestCharts', [key], {});\n",
              "      } catch (error) {\n",
              "        console.error('Error during call to suggestCharts:', error);\n",
              "      }\n",
              "      quickchartButtonEl.classList.remove('colab-df-spinner');\n",
              "      quickchartButtonEl.classList.add('colab-df-quickchart-complete');\n",
              "    }\n",
              "    (() => {\n",
              "      let quickchartButtonEl =\n",
              "        document.querySelector('#df-8307b9e4-3a87-4ac1-add3-f56c9de13fc1 button');\n",
              "      quickchartButtonEl.style.display =\n",
              "        google.colab.kernel.accessAllowed ? 'block' : 'none';\n",
              "    })();\n",
              "  </script>\n",
              "</div>\n",
              "\n",
              "    </div>\n",
              "  </div>\n"
            ]
          },
          "metadata": {},
          "execution_count": 53
        }
      ]
    },
    {
      "cell_type": "code",
      "source": [
        "transformer_train = ColumnTransformer([\n",
        "    (\"ohe_df\", OneHotEncoder(drop=\"first\", sparse_output= False), [0, 1, 3, 5, 7, 8, 9, 10, 11]),\n",
        "    (\"normalize_columns\", SimpleImputer(), [4, 6])\n",
        "    ], remainder = \"passthrough\"\n",
        ")"
      ],
      "metadata": {
        "id": "2vu5AZhW7TBO"
      },
      "execution_count": 54,
      "outputs": []
    },
    {
      "cell_type": "code",
      "source": [
        "x_train_trf = transformer_train.fit_transform(x_train)\n",
        "x_test_trf = transformer_train.transform(x_test)"
      ],
      "metadata": {
        "id": "ZfY_4je_NGqS"
      },
      "execution_count": 55,
      "outputs": []
    },
    {
      "cell_type": "code",
      "source": [],
      "metadata": {
        "id": "GfPP3ytAj78n"
      },
      "execution_count": 55,
      "outputs": []
    },
    {
      "cell_type": "markdown",
      "source": [
        "# Train the Model Using **Machine Learning**\n"
      ],
      "metadata": {
        "id": "ZVi-llw5Pmsb"
      }
    },
    {
      "cell_type": "code",
      "source": [
        "rf = RandomForestRegressor()"
      ],
      "metadata": {
        "id": "KLSqH9_fNGnq"
      },
      "execution_count": 56,
      "outputs": []
    },
    {
      "cell_type": "code",
      "source": [
        "rf.fit(x_train_trf, y_train)"
      ],
      "metadata": {
        "id": "P_ngdqk87TMC",
        "colab": {
          "base_uri": "https://localhost:8080/",
          "height": 74
        },
        "outputId": "738f88db-3b6d-4a53-f53c-df55eae1f485"
      },
      "execution_count": 57,
      "outputs": [
        {
          "output_type": "execute_result",
          "data": {
            "text/plain": [
              "RandomForestRegressor()"
            ],
            "text/html": [
              "<style>#sk-container-id-1 {color: black;background-color: white;}#sk-container-id-1 pre{padding: 0;}#sk-container-id-1 div.sk-toggleable {background-color: white;}#sk-container-id-1 label.sk-toggleable__label {cursor: pointer;display: block;width: 100%;margin-bottom: 0;padding: 0.3em;box-sizing: border-box;text-align: center;}#sk-container-id-1 label.sk-toggleable__label-arrow:before {content: \"▸\";float: left;margin-right: 0.25em;color: #696969;}#sk-container-id-1 label.sk-toggleable__label-arrow:hover:before {color: black;}#sk-container-id-1 div.sk-estimator:hover label.sk-toggleable__label-arrow:before {color: black;}#sk-container-id-1 div.sk-toggleable__content {max-height: 0;max-width: 0;overflow: hidden;text-align: left;background-color: #f0f8ff;}#sk-container-id-1 div.sk-toggleable__content pre {margin: 0.2em;color: black;border-radius: 0.25em;background-color: #f0f8ff;}#sk-container-id-1 input.sk-toggleable__control:checked~div.sk-toggleable__content {max-height: 200px;max-width: 100%;overflow: auto;}#sk-container-id-1 input.sk-toggleable__control:checked~label.sk-toggleable__label-arrow:before {content: \"▾\";}#sk-container-id-1 div.sk-estimator input.sk-toggleable__control:checked~label.sk-toggleable__label {background-color: #d4ebff;}#sk-container-id-1 div.sk-label input.sk-toggleable__control:checked~label.sk-toggleable__label {background-color: #d4ebff;}#sk-container-id-1 input.sk-hidden--visually {border: 0;clip: rect(1px 1px 1px 1px);clip: rect(1px, 1px, 1px, 1px);height: 1px;margin: -1px;overflow: hidden;padding: 0;position: absolute;width: 1px;}#sk-container-id-1 div.sk-estimator {font-family: monospace;background-color: #f0f8ff;border: 1px dotted black;border-radius: 0.25em;box-sizing: border-box;margin-bottom: 0.5em;}#sk-container-id-1 div.sk-estimator:hover {background-color: #d4ebff;}#sk-container-id-1 div.sk-parallel-item::after {content: \"\";width: 100%;border-bottom: 1px solid gray;flex-grow: 1;}#sk-container-id-1 div.sk-label:hover label.sk-toggleable__label {background-color: #d4ebff;}#sk-container-id-1 div.sk-serial::before {content: \"\";position: absolute;border-left: 1px solid gray;box-sizing: border-box;top: 0;bottom: 0;left: 50%;z-index: 0;}#sk-container-id-1 div.sk-serial {display: flex;flex-direction: column;align-items: center;background-color: white;padding-right: 0.2em;padding-left: 0.2em;position: relative;}#sk-container-id-1 div.sk-item {position: relative;z-index: 1;}#sk-container-id-1 div.sk-parallel {display: flex;align-items: stretch;justify-content: center;background-color: white;position: relative;}#sk-container-id-1 div.sk-item::before, #sk-container-id-1 div.sk-parallel-item::before {content: \"\";position: absolute;border-left: 1px solid gray;box-sizing: border-box;top: 0;bottom: 0;left: 50%;z-index: -1;}#sk-container-id-1 div.sk-parallel-item {display: flex;flex-direction: column;z-index: 1;position: relative;background-color: white;}#sk-container-id-1 div.sk-parallel-item:first-child::after {align-self: flex-end;width: 50%;}#sk-container-id-1 div.sk-parallel-item:last-child::after {align-self: flex-start;width: 50%;}#sk-container-id-1 div.sk-parallel-item:only-child::after {width: 0;}#sk-container-id-1 div.sk-dashed-wrapped {border: 1px dashed gray;margin: 0 0.4em 0.5em 0.4em;box-sizing: border-box;padding-bottom: 0.4em;background-color: white;}#sk-container-id-1 div.sk-label label {font-family: monospace;font-weight: bold;display: inline-block;line-height: 1.2em;}#sk-container-id-1 div.sk-label-container {text-align: center;}#sk-container-id-1 div.sk-container {/* jupyter's `normalize.less` sets `[hidden] { display: none; }` but bootstrap.min.css set `[hidden] { display: none !important; }` so we also need the `!important` here to be able to override the default hidden behavior on the sphinx rendered scikit-learn.org. See: https://github.com/scikit-learn/scikit-learn/issues/21755 */display: inline-block !important;position: relative;}#sk-container-id-1 div.sk-text-repr-fallback {display: none;}</style><div id=\"sk-container-id-1\" class=\"sk-top-container\"><div class=\"sk-text-repr-fallback\"><pre>RandomForestRegressor()</pre><b>In a Jupyter environment, please rerun this cell to show the HTML representation or trust the notebook. <br />On GitHub, the HTML representation is unable to render, please try loading this page with nbviewer.org.</b></div><div class=\"sk-container\" hidden><div class=\"sk-item\"><div class=\"sk-estimator sk-toggleable\"><input class=\"sk-toggleable__control sk-hidden--visually\" id=\"sk-estimator-id-1\" type=\"checkbox\" checked><label for=\"sk-estimator-id-1\" class=\"sk-toggleable__label sk-toggleable__label-arrow\">RandomForestRegressor</label><div class=\"sk-toggleable__content\"><pre>RandomForestRegressor()</pre></div></div></div></div></div>"
            ]
          },
          "metadata": {},
          "execution_count": 57
        }
      ]
    },
    {
      "cell_type": "code",
      "source": [
        "y_pred = rf.predict(x_test_trf)"
      ],
      "metadata": {
        "id": "N5wTySu8Qtiw"
      },
      "execution_count": 58,
      "outputs": []
    },
    {
      "cell_type": "code",
      "source": [
        "print(f\"R2 score: - \", r2_score(y_test, y_pred))\n",
        "print(f\"MSE: - \", mean_squared_error(y_test, y_pred))\n",
        "print(f\"MAE: - \", mean_absolute_error(y_test, y_pred))"
      ],
      "metadata": {
        "colab": {
          "base_uri": "https://localhost:8080/"
        },
        "id": "Xp8DI3I7kLPv",
        "outputId": "1c46e18a-b489-44d2-daa9-57f569bb92e6"
      },
      "execution_count": 59,
      "outputs": [
        {
          "output_type": "stream",
          "name": "stdout",
          "text": [
            "R2 score: -  0.9769379572582878\n",
            "MSE: -  166239550715.35303\n",
            "MAE: -  147361.1432828097\n"
          ]
        }
      ]
    },
    {
      "cell_type": "code",
      "source": [
        "from sklearn.model_selection import GridSearchCV"
      ],
      "metadata": {
        "id": "W5pAdpGF1wnu"
      },
      "execution_count": 60,
      "outputs": []
    },
    {
      "cell_type": "code",
      "source": [
        "# You can use this but it's process time is very long\n",
        "\n",
        "# grid = {\n",
        "#     \"n_estimators\": [10, 50, 100],\n",
        "#     \"criterion\": [\"squared_error\", \"absolute_error\"],\n",
        "#     \"max_features\": [\"sqrt\", \"log2\", 1],\n",
        "#     \"oob_score\": [True, False]\n",
        "# }"
      ],
      "metadata": {
        "id": "-lO2V6z51wlZ"
      },
      "execution_count": 61,
      "outputs": []
    },
    {
      "cell_type": "code",
      "source": [],
      "metadata": {
        "id": "qeu0i6I930d3"
      },
      "execution_count": 61,
      "outputs": []
    },
    {
      "cell_type": "code",
      "source": [
        "# grid_search = GridSearchCV(estimator= RandomForestRegressor(), n_jobs = -1, param_grid= grid, cv = 10, scoring = mean_squared_error)"
      ],
      "metadata": {
        "id": "obiSWsK-1wir"
      },
      "execution_count": 62,
      "outputs": []
    },
    {
      "cell_type": "code",
      "source": [
        "# grid_result = grid_search.fit(x_train_trf, y_train)"
      ],
      "metadata": {
        "id": "5mTWNucL1wUv"
      },
      "execution_count": 63,
      "outputs": []
    },
    {
      "cell_type": "code",
      "source": [
        "# print(cross_val_score(rf, x_train_trf, y_train, cv = 10, scoring = \"r2\").mean())"
      ],
      "metadata": {
        "id": "3PDUO5zikRtE"
      },
      "execution_count": 64,
      "outputs": []
    },
    {
      "cell_type": "markdown",
      "source": [
        "# Train the Model Using **Deep Learning**"
      ],
      "metadata": {
        "id": "hPJN_oxx_gXu"
      }
    },
    {
      "cell_type": "code",
      "source": [
        "x_train_trf.shape"
      ],
      "metadata": {
        "colab": {
          "base_uri": "https://localhost:8080/"
        },
        "id": "ZGKg8AId-1Sc",
        "outputId": "1a2ab7f4-4d53-467f-884b-249230ebd588"
      },
      "execution_count": 65,
      "outputs": [
        {
          "output_type": "execute_result",
          "data": {
            "text/plain": [
              "(29272, 80)"
            ]
          },
          "metadata": {},
          "execution_count": 65
        }
      ]
    },
    {
      "cell_type": "code",
      "source": [
        "model = Sequential()\n",
        "\n",
        "model.add(Dense(80, activation = \"relu\", input_dim = 80, kernel_regularizer= tf.keras.regularizers.l2(0.03)))\n",
        "model.add(BatchNormalization())\n",
        "model.add(Dropout(0.4))\n",
        "model.add(Dense(80, activation = \"relu\", kernel_regularizer= tf.keras.regularizers.l2(0.02)))\n",
        "model.add(BatchNormalization())\n",
        "model.add(Dropout(0.5))\n",
        "model.add(Dense(80, activation = \"relu\", kernel_regularizer= tf.keras.regularizers.l2(0.02)))\n",
        "model.add(BatchNormalization())\n",
        "model.add(Dropout(0.4))\n",
        "model.add(Dense(1, activation = \"linear\"))\n",
        "\n",
        "model.summary(())"
      ],
      "metadata": {
        "id": "6gqWM7hHka06",
        "colab": {
          "base_uri": "https://localhost:8080/"
        },
        "outputId": "8bdd5506-57ab-4beb-e83a-aa091bb864dc"
      },
      "execution_count": 66,
      "outputs": [
        {
          "output_type": "stream",
          "name": "stdout",
          "text": [
            "Model: \"sequential\"\n",
            "_________________________________________________________________\n",
            " Layer (type)                Output Shape              Param #   \n",
            "=================================================================\n",
            " dense (Dense)               (None, 80)                6480      \n",
            "                                                                 \n",
            " batch_normalization (Batch  (None, 80)                320       \n",
            " Normalization)                                                  \n",
            "                                                                 \n",
            " dropout (Dropout)           (None, 80)                0         \n",
            "                                                                 \n",
            " dense_1 (Dense)             (None, 80)                6480      \n",
            "                                                                 \n",
            " batch_normalization_1 (Bat  (None, 80)                320       \n",
            " chNormalization)                                                \n",
            "                                                                 \n",
            " dropout_1 (Dropout)         (None, 80)                0         \n",
            "                                                                 \n",
            " dense_2 (Dense)             (None, 80)                6480      \n",
            "                                                                 \n",
            " batch_normalization_2 (Bat  (None, 80)                320       \n",
            " chNormalization)                                                \n",
            "                                                                 \n",
            " dropout_2 (Dropout)         (None, 80)                0         \n",
            "                                                                 \n",
            " dense_3 (Dense)             (None, 1)                 81        \n",
            "                                                                 \n",
            "=================================================================\n",
            "Total params: 20481 (80.00 KB)\n",
            "Trainable params: 20001 (78.13 KB)\n",
            "Non-trainable params: 480 (1.88 KB)\n",
            "_________________________________________________________________\n"
          ]
        }
      ]
    },
    {
      "cell_type": "code",
      "source": [
        "model.compile(loss = \"mean_squared_error\", optimizer = \"adam\", metrics = [\"mae\"])\n",
        "history = model.fit(x_train_trf, y_train, epochs = 100, validation_split = 0.2)"
      ],
      "metadata": {
        "id": "AZ8kGynh-xoj",
        "colab": {
          "base_uri": "https://localhost:8080/"
        },
        "outputId": "11c3b96e-8fe8-4c17-ca63-6ea32fb40327"
      },
      "execution_count": 67,
      "outputs": [
        {
          "output_type": "stream",
          "name": "stdout",
          "text": [
            "Epoch 1/100\n",
            "732/732 [==============================] - 12s 9ms/step - loss: 11541023817728.0000 - mae: 1949646.6250 - val_loss: 11171694379008.0000 - val_mae: 1968367.3750\n",
            "Epoch 2/100\n",
            "732/732 [==============================] - 5s 7ms/step - loss: 11539944833024.0000 - mae: 1949507.5000 - val_loss: 11170431893504.0000 - val_mae: 1968191.0000\n",
            "Epoch 3/100\n",
            "732/732 [==============================] - 5s 7ms/step - loss: 11538089902080.0000 - mae: 1949246.5000 - val_loss: 11167355371520.0000 - val_mae: 1967766.3750\n",
            "Epoch 4/100\n",
            "732/732 [==============================] - 6s 8ms/step - loss: 11535574368256.0000 - mae: 1948881.2500 - val_loss: 11163271168000.0000 - val_mae: 1967170.1250\n",
            "Epoch 5/100\n",
            "732/732 [==============================] - 5s 7ms/step - loss: 11532449611776.0000 - mae: 1948422.7500 - val_loss: 11160082448384.0000 - val_mae: 1966887.0000\n",
            "Epoch 6/100\n",
            "732/732 [==============================] - 6s 8ms/step - loss: 11528976728064.0000 - mae: 1947885.7500 - val_loss: 11155038797824.0000 - val_mae: 1966432.0000\n",
            "Epoch 7/100\n",
            "732/732 [==============================] - 5s 7ms/step - loss: 11525051908096.0000 - mae: 1947267.6250 - val_loss: 11146633412608.0000 - val_mae: 1965843.2500\n",
            "Epoch 8/100\n",
            "732/732 [==============================] - 5s 7ms/step - loss: 11520433979392.0000 - mae: 1946575.0000 - val_loss: 11141989269504.0000 - val_mae: 1965119.5000\n",
            "Epoch 9/100\n",
            "732/732 [==============================] - 8s 11ms/step - loss: 11515304345600.0000 - mae: 1945799.2500 - val_loss: 11120563716096.0000 - val_mae: 1963499.2500\n",
            "Epoch 10/100\n",
            "732/732 [==============================] - 5s 7ms/step - loss: 11510164226048.0000 - mae: 1944968.8750 - val_loss: 11128827543552.0000 - val_mae: 1963686.0000\n",
            "Epoch 11/100\n",
            "732/732 [==============================] - 6s 8ms/step - loss: 11504192585728.0000 - mae: 1944059.5000 - val_loss: 11114246045696.0000 - val_mae: 1962620.3750\n",
            "Epoch 12/100\n",
            "732/732 [==============================] - 6s 8ms/step - loss: 11497532030976.0000 - mae: 1943072.8750 - val_loss: 11125920890880.0000 - val_mae: 1961389.7500\n",
            "Epoch 13/100\n",
            "732/732 [==============================] - 5s 7ms/step - loss: 11490991013888.0000 - mae: 1942004.3750 - val_loss: 11113114632192.0000 - val_mae: 1960845.5000\n",
            "Epoch 14/100\n",
            "732/732 [==============================] - 6s 8ms/step - loss: 11483841822720.0000 - mae: 1940876.3750 - val_loss: 11100929130496.0000 - val_mae: 1959508.2500\n",
            "Epoch 15/100\n",
            "732/732 [==============================] - 5s 7ms/step - loss: 11476503887872.0000 - mae: 1939680.1250 - val_loss: 11070415568896.0000 - val_mae: 1957582.5000\n",
            "Epoch 16/100\n",
            "732/732 [==============================] - 5s 7ms/step - loss: 11468534710272.0000 - mae: 1938435.2500 - val_loss: 11086881357824.0000 - val_mae: 1956841.2500\n",
            "Epoch 17/100\n",
            "732/732 [==============================] - 7s 9ms/step - loss: 11460070604800.0000 - mae: 1937112.2500 - val_loss: 11050813489152.0000 - val_mae: 1954951.8750\n",
            "Epoch 18/100\n",
            "732/732 [==============================] - 5s 7ms/step - loss: 11450423705600.0000 - mae: 1935679.2500 - val_loss: 11079818149888.0000 - val_mae: 1955508.0000\n",
            "Epoch 19/100\n",
            "732/732 [==============================] - 5s 7ms/step - loss: 11441706893312.0000 - mae: 1934192.7500 - val_loss: 11063675322368.0000 - val_mae: 1954000.5000\n",
            "Epoch 20/100\n",
            "732/732 [==============================] - 6s 9ms/step - loss: 11431996030976.0000 - mae: 1932660.6250 - val_loss: 11044811440128.0000 - val_mae: 1951906.5000\n",
            "Epoch 21/100\n",
            "732/732 [==============================] - 5s 7ms/step - loss: 11421570039808.0000 - mae: 1931069.2500 - val_loss: 11037220798464.0000 - val_mae: 1950000.3750\n",
            "Epoch 22/100\n",
            "732/732 [==============================] - 6s 8ms/step - loss: 11410593546240.0000 - mae: 1929347.3750 - val_loss: 11015726039040.0000 - val_mae: 1948388.0000\n",
            "Epoch 23/100\n",
            "732/732 [==============================] - 6s 8ms/step - loss: 11400760000512.0000 - mae: 1927618.3750 - val_loss: 11009607598080.0000 - val_mae: 1945349.5000\n",
            "Epoch 24/100\n",
            "732/732 [==============================] - 5s 7ms/step - loss: 11389018046464.0000 - mae: 1925815.8750 - val_loss: 11001620594688.0000 - val_mae: 1945825.7500\n",
            "Epoch 25/100\n",
            "732/732 [==============================] - 6s 8ms/step - loss: 11377183817728.0000 - mae: 1923904.6250 - val_loss: 10918301794304.0000 - val_mae: 1939629.6250\n",
            "Epoch 26/100\n",
            "732/732 [==============================] - 5s 7ms/step - loss: 11364622925824.0000 - mae: 1921954.2500 - val_loss: 10933550186496.0000 - val_mae: 1941433.5000\n",
            "Epoch 27/100\n",
            "732/732 [==============================] - 5s 7ms/step - loss: 11351742218240.0000 - mae: 1919961.0000 - val_loss: 10960625467392.0000 - val_mae: 1940133.7500\n",
            "Epoch 28/100\n",
            "732/732 [==============================] - 7s 9ms/step - loss: 11340096733184.0000 - mae: 1917837.7500 - val_loss: 10931635486720.0000 - val_mae: 1935029.2500\n",
            "Epoch 29/100\n",
            "732/732 [==============================] - 5s 7ms/step - loss: 11325313908736.0000 - mae: 1915683.0000 - val_loss: 10870260236288.0000 - val_mae: 1930701.0000\n",
            "Epoch 30/100\n",
            "732/732 [==============================] - 5s 7ms/step - loss: 11312492969984.0000 - mae: 1913459.7500 - val_loss: 10913898823680.0000 - val_mae: 1934703.7500\n",
            "Epoch 31/100\n",
            "732/732 [==============================] - 6s 9ms/step - loss: 11298099167232.0000 - mae: 1911155.2500 - val_loss: 10881029111808.0000 - val_mae: 1927753.0000\n",
            "Epoch 32/100\n",
            "732/732 [==============================] - 5s 7ms/step - loss: 11283027984384.0000 - mae: 1908846.7500 - val_loss: 10885554765824.0000 - val_mae: 1929431.2500\n",
            "Epoch 33/100\n",
            "732/732 [==============================] - 6s 8ms/step - loss: 11268930928640.0000 - mae: 1906459.5000 - val_loss: 10850644525056.0000 - val_mae: 1926041.8750\n",
            "Epoch 34/100\n",
            "732/732 [==============================] - 6s 8ms/step - loss: 11251735330816.0000 - mae: 1903870.2500 - val_loss: 10833735188480.0000 - val_mae: 1924987.1250\n",
            "Epoch 35/100\n",
            "732/732 [==============================] - 5s 7ms/step - loss: 11238259032064.0000 - mae: 1901361.5000 - val_loss: 10835929858048.0000 - val_mae: 1922415.6250\n",
            "Epoch 36/100\n",
            "732/732 [==============================] - 6s 8ms/step - loss: 11219015565312.0000 - mae: 1898699.8750 - val_loss: 10817710850048.0000 - val_mae: 1918312.6250\n",
            "Epoch 37/100\n",
            "732/732 [==============================] - 5s 7ms/step - loss: 11203770318848.0000 - mae: 1896084.3750 - val_loss: 10796133253120.0000 - val_mae: 1917221.8750\n",
            "Epoch 38/100\n",
            "732/732 [==============================] - 5s 7ms/step - loss: 11187297189888.0000 - mae: 1893249.0000 - val_loss: 10806469066752.0000 - val_mae: 1916765.7500\n",
            "Epoch 39/100\n",
            "732/732 [==============================] - 6s 9ms/step - loss: 11171450060800.0000 - mae: 1890450.0000 - val_loss: 10748595011584.0000 - val_mae: 1906515.2500\n",
            "Epoch 40/100\n",
            "732/732 [==============================] - 5s 7ms/step - loss: 11151077277696.0000 - mae: 1887487.1250 - val_loss: 10667836833792.0000 - val_mae: 1902471.3750\n",
            "Epoch 41/100\n",
            "732/732 [==============================] - 5s 7ms/step - loss: 11134129143808.0000 - mae: 1884701.8750 - val_loss: 10560656637952.0000 - val_mae: 1898521.0000\n",
            "Epoch 42/100\n",
            "732/732 [==============================] - 6s 8ms/step - loss: 11114819616768.0000 - mae: 1881551.6250 - val_loss: 10716091252736.0000 - val_mae: 1903135.6250\n",
            "Epoch 43/100\n",
            "732/732 [==============================] - 5s 7ms/step - loss: 11096647794688.0000 - mae: 1878510.2500 - val_loss: 10591112527872.0000 - val_mae: 1905958.0000\n",
            "Epoch 44/100\n",
            "732/732 [==============================] - 6s 8ms/step - loss: 11077071929344.0000 - mae: 1875315.7500 - val_loss: 10598658080768.0000 - val_mae: 1895054.2500\n",
            "Epoch 45/100\n",
            "732/732 [==============================] - 6s 8ms/step - loss: 11057254891520.0000 - mae: 1872171.1250 - val_loss: 10544042999808.0000 - val_mae: 1886391.0000\n",
            "Epoch 46/100\n",
            "732/732 [==============================] - 5s 6ms/step - loss: 11037900275712.0000 - mae: 1868918.7500 - val_loss: 10459413479424.0000 - val_mae: 1884078.6250\n",
            "Epoch 47/100\n",
            "732/732 [==============================] - 6s 8ms/step - loss: 11018133569536.0000 - mae: 1865418.6250 - val_loss: 10584798003200.0000 - val_mae: 1885140.1250\n",
            "Epoch 48/100\n",
            "732/732 [==============================] - 5s 7ms/step - loss: 10996077821952.0000 - mae: 1862080.3750 - val_loss: 10565967675392.0000 - val_mae: 1886470.8750\n",
            "Epoch 49/100\n",
            "732/732 [==============================] - 5s 7ms/step - loss: 10971121713152.0000 - mae: 1858574.5000 - val_loss: 10536044462080.0000 - val_mae: 1883582.5000\n",
            "Epoch 50/100\n",
            "732/732 [==============================] - 6s 8ms/step - loss: 10950529777664.0000 - mae: 1855015.8750 - val_loss: 10460119171072.0000 - val_mae: 1873746.3750\n",
            "Epoch 51/100\n",
            "732/732 [==============================] - 5s 7ms/step - loss: 10933543895040.0000 - mae: 1851366.1250 - val_loss: 10437751996416.0000 - val_mae: 1871033.3750\n",
            "Epoch 52/100\n",
            "732/732 [==============================] - 5s 7ms/step - loss: 10910253973504.0000 - mae: 1847843.1250 - val_loss: 10375193952256.0000 - val_mae: 1865620.7500\n",
            "Epoch 53/100\n",
            "732/732 [==============================] - 6s 9ms/step - loss: 10879448907776.0000 - mae: 1843882.7500 - val_loss: 10418684690432.0000 - val_mae: 1879516.0000\n",
            "Epoch 54/100\n",
            "732/732 [==============================] - 5s 7ms/step - loss: 10863725510656.0000 - mae: 1840273.1250 - val_loss: 10342219382784.0000 - val_mae: 1850482.0000\n",
            "Epoch 55/100\n",
            "732/732 [==============================] - 5s 7ms/step - loss: 10836452048896.0000 - mae: 1836214.3750 - val_loss: 10306829942784.0000 - val_mae: 1849044.8750\n",
            "Epoch 56/100\n",
            "732/732 [==============================] - 6s 8ms/step - loss: 10813519691776.0000 - mae: 1832488.8750 - val_loss: 10417543839744.0000 - val_mae: 1861979.0000\n",
            "Epoch 57/100\n",
            "732/732 [==============================] - 5s 6ms/step - loss: 10787891445760.0000 - mae: 1828376.7500 - val_loss: 10207961808896.0000 - val_mae: 1846835.1250\n",
            "Epoch 58/100\n",
            "732/732 [==============================] - 5s 7ms/step - loss: 10771037683712.0000 - mae: 1824347.2500 - val_loss: 10134236430336.0000 - val_mae: 1814180.0000\n",
            "Epoch 59/100\n",
            "732/732 [==============================] - 6s 8ms/step - loss: 10740080574464.0000 - mae: 1820169.5000 - val_loss: 10160631185408.0000 - val_mae: 1839701.3750\n",
            "Epoch 60/100\n",
            "732/732 [==============================] - 5s 7ms/step - loss: 10719183503360.0000 - mae: 1815982.1250 - val_loss: 10036489224192.0000 - val_mae: 1831786.6250\n",
            "Epoch 61/100\n",
            "732/732 [==============================] - 6s 8ms/step - loss: 10697489514496.0000 - mae: 1811852.3750 - val_loss: 10284657803264.0000 - val_mae: 1838651.5000\n",
            "Epoch 62/100\n",
            "732/732 [==============================] - 5s 7ms/step - loss: 10666654040064.0000 - mae: 1807573.8750 - val_loss: 9903000256512.0000 - val_mae: 1816857.3750\n",
            "Epoch 63/100\n",
            "732/732 [==============================] - 5s 7ms/step - loss: 10637725925376.0000 - mae: 1803087.2500 - val_loss: 10084086185984.0000 - val_mae: 1821328.0000\n",
            "Epoch 64/100\n",
            "732/732 [==============================] - 6s 9ms/step - loss: 10620988555264.0000 - mae: 1798843.6250 - val_loss: 10230969663488.0000 - val_mae: 1834667.2500\n",
            "Epoch 65/100\n",
            "732/732 [==============================] - 5s 7ms/step - loss: 10592654983168.0000 - mae: 1794208.8750 - val_loss: 9878994157568.0000 - val_mae: 1810703.2500\n",
            "Epoch 66/100\n",
            "732/732 [==============================] - 5s 7ms/step - loss: 10557034856448.0000 - mae: 1789645.8750 - val_loss: 9865291366400.0000 - val_mae: 1779656.2500\n",
            "Epoch 67/100\n",
            "732/732 [==============================] - 7s 9ms/step - loss: 10533722914816.0000 - mae: 1784937.7500 - val_loss: 9881397493760.0000 - val_mae: 1785495.2500\n",
            "Epoch 68/100\n",
            "732/732 [==============================] - 5s 7ms/step - loss: 10502551896064.0000 - mae: 1780055.7500 - val_loss: 9840386637824.0000 - val_mae: 1804262.5000\n",
            "Epoch 69/100\n",
            "732/732 [==============================] - 5s 7ms/step - loss: 10480278044672.0000 - mae: 1775550.6250 - val_loss: 9770202300416.0000 - val_mae: 1796991.1250\n",
            "Epoch 70/100\n",
            "732/732 [==============================] - 6s 8ms/step - loss: 10450850807808.0000 - mae: 1771042.2500 - val_loss: 9942895427584.0000 - val_mae: 1804674.1250\n",
            "Epoch 71/100\n",
            "732/732 [==============================] - 5s 7ms/step - loss: 10426944323584.0000 - mae: 1765812.1250 - val_loss: 9733491654656.0000 - val_mae: 1777889.6250\n",
            "Epoch 72/100\n",
            "732/732 [==============================] - 6s 8ms/step - loss: 10393408765952.0000 - mae: 1761092.8750 - val_loss: 9532922134528.0000 - val_mae: 1716919.8750\n",
            "Epoch 73/100\n",
            "732/732 [==============================] - 6s 8ms/step - loss: 10366968922112.0000 - mae: 1755799.8750 - val_loss: 9741025673216.0000 - val_mae: 1767784.5000\n",
            "Epoch 74/100\n",
            "732/732 [==============================] - 5s 7ms/step - loss: 10340274274304.0000 - mae: 1750494.8750 - val_loss: 9954058567680.0000 - val_mae: 1798024.0000\n",
            "Epoch 75/100\n",
            "732/732 [==============================] - 6s 8ms/step - loss: 10317828456448.0000 - mae: 1745897.0000 - val_loss: 9602796093440.0000 - val_mae: 1765903.8750\n",
            "Epoch 76/100\n",
            "732/732 [==============================] - 5s 7ms/step - loss: 10287993323520.0000 - mae: 1740891.5000 - val_loss: 9465552175104.0000 - val_mae: 1753977.8750\n",
            "Epoch 77/100\n",
            "732/732 [==============================] - 5s 7ms/step - loss: 10259653459968.0000 - mae: 1735328.0000 - val_loss: 9482874650624.0000 - val_mae: 1763364.8750\n",
            "Epoch 78/100\n",
            "732/732 [==============================] - 6s 9ms/step - loss: 10225870438400.0000 - mae: 1730296.6250 - val_loss: 9683321487360.0000 - val_mae: 1750182.0000\n",
            "Epoch 79/100\n",
            "732/732 [==============================] - 5s 7ms/step - loss: 10187754700800.0000 - mae: 1724604.0000 - val_loss: 9389346914304.0000 - val_mae: 1730299.2500\n",
            "Epoch 80/100\n",
            "732/732 [==============================] - 5s 7ms/step - loss: 10158634696704.0000 - mae: 1719204.3750 - val_loss: 9424148103168.0000 - val_mae: 1727834.6250\n",
            "Epoch 81/100\n",
            "732/732 [==============================] - 6s 8ms/step - loss: 10133381840896.0000 - mae: 1713924.8750 - val_loss: 9535671500800.0000 - val_mae: 1709313.2500\n",
            "Epoch 82/100\n",
            "732/732 [==============================] - 5s 7ms/step - loss: 10104532369408.0000 - mae: 1708138.7500 - val_loss: 9305813155840.0000 - val_mae: 1687830.2500\n",
            "Epoch 83/100\n",
            "732/732 [==============================] - 5s 7ms/step - loss: 10062368079872.0000 - mae: 1702655.2500 - val_loss: 9386641588224.0000 - val_mae: 1714691.6250\n",
            "Epoch 84/100\n",
            "732/732 [==============================] - 6s 8ms/step - loss: 10029085229056.0000 - mae: 1697092.6250 - val_loss: 9499623555072.0000 - val_mae: 1732981.8750\n",
            "Epoch 85/100\n",
            "732/732 [==============================] - 5s 7ms/step - loss: 9991047086080.0000 - mae: 1691278.3750 - val_loss: 9364220936192.0000 - val_mae: 1708183.7500\n",
            "Epoch 86/100\n",
            "732/732 [==============================] - 5s 7ms/step - loss: 9956165156864.0000 - mae: 1685861.7500 - val_loss: 9188155588608.0000 - val_mae: 1668047.5000\n",
            "Epoch 87/100\n",
            "732/732 [==============================] - 6s 8ms/step - loss: 9919615991808.0000 - mae: 1679733.7500 - val_loss: 9539354099712.0000 - val_mae: 1714595.8750\n",
            "Epoch 88/100\n",
            "732/732 [==============================] - 5s 6ms/step - loss: 9891431317504.0000 - mae: 1673661.2500 - val_loss: 9259825758208.0000 - val_mae: 1672789.6250\n",
            "Epoch 89/100\n",
            "732/732 [==============================] - 6s 8ms/step - loss: 9883189510144.0000 - mae: 1667952.7500 - val_loss: 9209757302784.0000 - val_mae: 1668611.7500\n",
            "Epoch 90/100\n",
            "732/732 [==============================] - 6s 8ms/step - loss: 9840743153664.0000 - mae: 1661754.6250 - val_loss: 9133667385344.0000 - val_mae: 1660448.5000\n",
            "Epoch 91/100\n",
            "732/732 [==============================] - 5s 7ms/step - loss: 9795601956864.0000 - mae: 1655636.7500 - val_loss: 9275885748224.0000 - val_mae: 1684524.1250\n",
            "Epoch 92/100\n",
            "732/732 [==============================] - 6s 9ms/step - loss: 9754222002176.0000 - mae: 1649175.0000 - val_loss: 9327862611968.0000 - val_mae: 1683042.0000\n",
            "Epoch 93/100\n",
            "732/732 [==============================] - 5s 7ms/step - loss: 9729744044032.0000 - mae: 1643477.2500 - val_loss: 8955184021504.0000 - val_mae: 1646068.8750\n",
            "Epoch 94/100\n",
            "732/732 [==============================] - 5s 7ms/step - loss: 9685345239040.0000 - mae: 1636878.6250 - val_loss: 9375840206848.0000 - val_mae: 1713487.7500\n",
            "Epoch 95/100\n",
            "732/732 [==============================] - 6s 8ms/step - loss: 9650949849088.0000 - mae: 1630955.7500 - val_loss: 8932784340992.0000 - val_mae: 1656021.8750\n",
            "Epoch 96/100\n",
            "732/732 [==============================] - 5s 7ms/step - loss: 9627878031360.0000 - mae: 1624072.2500 - val_loss: 8989054074880.0000 - val_mae: 1646908.3750\n",
            "Epoch 97/100\n",
            "732/732 [==============================] - 6s 8ms/step - loss: 9583608201216.0000 - mae: 1617919.8750 - val_loss: 9032612970496.0000 - val_mae: 1641266.6250\n",
            "Epoch 98/100\n",
            "732/732 [==============================] - 6s 8ms/step - loss: 9544067448832.0000 - mae: 1611541.7500 - val_loss: 9088104660992.0000 - val_mae: 1653347.2500\n",
            "Epoch 99/100\n",
            "732/732 [==============================] - 5s 7ms/step - loss: 9520364388352.0000 - mae: 1605165.1250 - val_loss: 8684330549248.0000 - val_mae: 1577084.7500\n",
            "Epoch 100/100\n",
            "732/732 [==============================] - 6s 8ms/step - loss: 9488013721600.0000 - mae: 1598465.3750 - val_loss: 8693564833792.0000 - val_mae: 1551963.2500\n"
          ]
        }
      ]
    },
    {
      "cell_type": "code",
      "source": [
        "y_pred = model.predict(x_test_trf)\n",
        "\n",
        "print(f\"R2 score: - \", r2_score(y_test, y_pred))\n",
        "print(f\"MSE: - \", mean_squared_error(y_test, y_pred))\n",
        "print(f\"MAE: - \", mean_absolute_error(y_test, y_pred))"
      ],
      "metadata": {
        "id": "8kqoHMGtBdo0",
        "colab": {
          "base_uri": "https://localhost:8080/"
        },
        "outputId": "0927cc56-24e7-456e-b20a-9a3b2fff1e82"
      },
      "execution_count": 71,
      "outputs": [
        {
          "output_type": "stream",
          "name": "stdout",
          "text": [
            "393/393 [==============================] - 1s 3ms/step\n",
            "R2 score: -  -0.15439369723174057\n",
            "MSE: -  8321287568743.4375\n",
            "MAE: -  1514332.2049333453\n"
          ]
        }
      ]
    },
    {
      "cell_type": "code",
      "source": [],
      "metadata": {
        "id": "ktm0VCsHKArz"
      },
      "execution_count": null,
      "outputs": []
    }
  ]
}